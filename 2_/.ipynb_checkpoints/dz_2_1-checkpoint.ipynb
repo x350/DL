{
 "cells": [
  {
   "cell_type": "code",
   "execution_count": 1,
   "id": "b8e8dc91",
   "metadata": {},
   "outputs": [],
   "source": [
    "import torch\n",
    "import numpy as np\n",
    "import matplotlib.pyplot as plt\n",
    "%matplotlib inline"
   ]
  },
  {
   "cell_type": "markdown",
   "id": "fb000bcd",
   "metadata": {},
   "source": [
    "### FashionMNIST."
   ]
  },
  {
   "cell_type": "code",
   "execution_count": 2,
   "id": "d75c8b82",
   "metadata": {},
   "outputs": [],
   "source": [
    "import torchvision as tv\n",
    "import time"
   ]
  },
  {
   "cell_type": "code",
   "execution_count": 3,
   "id": "bf741e51",
   "metadata": {},
   "outputs": [],
   "source": [
    "BATCH_SIZE = 256"
   ]
  },
  {
   "cell_type": "code",
   "execution_count": 4,
   "id": "b4c5c6c2",
   "metadata": {},
   "outputs": [
    {
     "name": "stderr",
     "output_type": "stream",
     "text": [
      "\r",
      "0it [00:00, ?it/s]"
     ]
    },
    {
     "name": "stdout",
     "output_type": "stream",
     "text": [
      "Downloading http://fashion-mnist.s3-website.eu-central-1.amazonaws.com/train-images-idx3-ubyte.gz to ./FashionMNIST/raw/train-images-idx3-ubyte.gz\n"
     ]
    },
    {
     "name": "stderr",
     "output_type": "stream",
     "text": [
      " 99%|█████████████████████████▊| 26247168/26421880 [00:15<00:00, 1936435.34it/s]"
     ]
    },
    {
     "name": "stdout",
     "output_type": "stream",
     "text": [
      "Extracting ./FashionMNIST/raw/train-images-idx3-ubyte.gz to ./FashionMNIST/raw\n"
     ]
    },
    {
     "name": "stderr",
     "output_type": "stream",
     "text": [
      "\n",
      "0it [00:00, ?it/s]\u001b[A"
     ]
    },
    {
     "name": "stdout",
     "output_type": "stream",
     "text": [
      "Downloading http://fashion-mnist.s3-website.eu-central-1.amazonaws.com/train-labels-idx1-ubyte.gz to ./FashionMNIST/raw/train-labels-idx1-ubyte.gz\n"
     ]
    },
    {
     "name": "stderr",
     "output_type": "stream",
     "text": [
      "\n",
      "  0%|                                                 | 0/29515 [00:00<?, ?it/s]\u001b[A\n",
      "32768it [00:00, 57445.36it/s]                                                   \u001b[A\n",
      "\n",
      "0it [00:00, ?it/s]\u001b[A"
     ]
    },
    {
     "name": "stdout",
     "output_type": "stream",
     "text": [
      "Extracting ./FashionMNIST/raw/train-labels-idx1-ubyte.gz to ./FashionMNIST/raw\n",
      "Downloading http://fashion-mnist.s3-website.eu-central-1.amazonaws.com/t10k-images-idx3-ubyte.gz to ./FashionMNIST/raw/t10k-images-idx3-ubyte.gz\n"
     ]
    },
    {
     "name": "stderr",
     "output_type": "stream",
     "text": [
      "\n",
      "  0%|                                               | 0/4422102 [00:00<?, ?it/s]\u001b[A\n",
      "  2%|▌                              | 73728/4422102 [00:00<00:05, 726056.54it/s]\u001b[A\n",
      "  6%|█▊                            | 262144/4422102 [00:00<00:04, 884042.89it/s]\u001b[A\n",
      " 10%|██▉                          | 442368/4422102 [00:00<00:03, 1025793.57it/s]\u001b[A\n",
      " 12%|███▋                          | 540672/4422102 [00:00<00:04, 910532.82it/s]\u001b[A\n",
      " 28%|███████▉                    | 1253376/4422102 [00:00<00:02, 1209696.39it/s]\u001b[A\n",
      " 34%|█████████▍                  | 1482752/4422102 [00:01<00:02, 1319292.03it/s]\u001b[A\n",
      " 41%|███████████▌                | 1835008/4422102 [00:01<00:01, 1615053.18it/s]\u001b[A\n",
      " 47%|█████████████▏              | 2080768/4422102 [00:01<00:01, 1766145.69it/s]\u001b[A\n",
      " 53%|██████████████▋             | 2326528/4422102 [00:01<00:01, 1837175.34it/s]\u001b[A\n",
      " 58%|████████████████▏           | 2555904/4422102 [00:01<00:00, 1949746.52it/s]\u001b[A\n",
      " 63%|█████████████████▋          | 2785280/4422102 [00:01<00:01, 1455767.08it/s]\u001b[A\n",
      " 70%|███████████████████▌        | 3088384/4422102 [00:01<00:00, 1688233.45it/s]\u001b[A\n",
      " 75%|█████████████████████       | 3317760/4422102 [00:01<00:00, 1831606.31it/s]\u001b[A\n",
      " 80%|██████████████████████▍     | 3538944/4422102 [00:02<00:00, 1763636.83it/s]\u001b[A\n",
      " 85%|███████████████████████▋    | 3743744/4422102 [00:02<00:00, 1440273.13it/s]\u001b[A\n",
      " 91%|█████████████████████████▎  | 4005888/4422102 [00:02<00:00, 1629441.87it/s]\u001b[A\n",
      "4423680it [00:02, 1683462.68it/s]                                               \u001b[A\n",
      "\n",
      "0it [00:00, ?it/s]\u001b[A\n",
      "8192it [00:00, 65882.19it/s]                                                    \u001b[A\n"
     ]
    },
    {
     "name": "stdout",
     "output_type": "stream",
     "text": [
      "Extracting ./FashionMNIST/raw/t10k-images-idx3-ubyte.gz to ./FashionMNIST/raw\n",
      "Downloading http://fashion-mnist.s3-website.eu-central-1.amazonaws.com/t10k-labels-idx1-ubyte.gz to ./FashionMNIST/raw/t10k-labels-idx1-ubyte.gz\n",
      "Extracting ./FashionMNIST/raw/t10k-labels-idx1-ubyte.gz to ./FashionMNIST/raw\n",
      "Processing...\n",
      "Done!\n"
     ]
    }
   ],
   "source": [
    "train_dataset = tv.datasets.FashionMNIST('.', train=True, transform=tv.transforms.ToTensor(), download=True)\n",
    "test_dataset  = tv.datasets.FashionMNIST('.', train=False, transform=tv.transforms.ToTensor(), download=True)\n",
    "train = torch.utils.data.DataLoader(train_dataset, batch_size=BATCH_SIZE)\n",
    "test = torch.utils.data.DataLoader(test_dataset, batch_size=BATCH_SIZE)"
   ]
  },
  {
   "cell_type": "markdown",
   "id": "00e11f2e",
   "metadata": {},
   "source": [
    "### Знакомство с данными"
   ]
  },
  {
   "cell_type": "code",
   "execution_count": 5,
   "id": "d4ab2e51",
   "metadata": {},
   "outputs": [
    {
     "data": {
      "text/plain": [
       "<matplotlib.image.AxesImage at 0x7fd9b8ef5e48>"
      ]
     },
     "execution_count": 5,
     "metadata": {},
     "output_type": "execute_result"
    },
    {
     "data": {
      "image/png": "[encoded data removed]",
      "text/plain": [
       "<Figure size 432x288 with 1 Axes>"
      ]
     },
     "metadata": {
      "needs_background": "light"
     },
     "output_type": "display_data"
    }
   ],
   "source": [
    "plt.imshow(train_dataset[505][0].numpy().reshape(28, 28), cmap='gray')"
   ]
  },
  {
   "cell_type": "code",
   "execution_count": 6,
   "id": "c46ec6de",
   "metadata": {},
   "outputs": [
    {
     "data": {
      "text/plain": [
       "2"
      ]
     },
     "execution_count": 6,
     "metadata": {},
     "output_type": "execute_result"
    }
   ],
   "source": [
    "train_dataset[505][1]"
   ]
  },
  {
   "cell_type": "code",
   "execution_count": 7,
   "id": "6a9ec515",
   "metadata": {},
   "outputs": [
    {
     "data": {
      "text/plain": [
       "['T-shirt/top',\n",
       " 'Trouser',\n",
       " 'Pullover',\n",
       " 'Dress',\n",
       " 'Coat',\n",
       " 'Sandal',\n",
       " 'Shirt',\n",
       " 'Sneaker',\n",
       " 'Bag',\n",
       " 'Ankle boot']"
      ]
     },
     "execution_count": 7,
     "metadata": {},
     "output_type": "execute_result"
    }
   ],
   "source": [
    "train_dataset.classes"
   ]
  },
  {
   "cell_type": "code",
   "execution_count": 8,
   "id": "d72fd894",
   "metadata": {},
   "outputs": [
    {
     "data": {
      "text/plain": [
       "torch.Size([60000, 28, 28])"
      ]
     },
     "execution_count": 8,
     "metadata": {},
     "output_type": "execute_result"
    }
   ],
   "source": [
    "train_dataset.data.shape"
   ]
  },
  {
   "cell_type": "code",
   "execution_count": 9,
   "id": "0a33ee0b",
   "metadata": {},
   "outputs": [
    {
     "data": {
      "text/plain": [
       "torch.Size([1, 28, 28])"
      ]
     },
     "execution_count": 9,
     "metadata": {},
     "output_type": "execute_result"
    }
   ],
   "source": [
    "train_dataset[0][0].shape"
   ]
  },
  {
   "cell_type": "markdown",
   "id": "85971b57",
   "metadata": {},
   "source": [
    "## Модель"
   ]
  },
  {
   "cell_type": "code",
   "execution_count": 10,
   "id": "9e0c059b",
   "metadata": {},
   "outputs": [
    {
     "data": {
      "text/plain": [
       "device(type='cuda')"
      ]
     },
     "execution_count": 10,
     "metadata": {},
     "output_type": "execute_result"
    }
   ],
   "source": [
    "dev = torch.device(\"cuda\") if torch.cuda.is_available() else torch.device(\"cpu\"); dev"
   ]
  },
  {
   "cell_type": "code",
   "execution_count": 11,
   "id": "606d2457",
   "metadata": {},
   "outputs": [],
   "source": [
    "model = torch.nn.Sequential(\n",
    "    torch.nn.Flatten(),\n",
    "    torch.nn.BatchNorm1d(784),\n",
    "    torch.nn.Linear(784,1568),\n",
    "    torch.nn.Dropout(),\n",
    "    torch.nn.ReLU(),\n",
    "    torch.nn.Linear(1568, 784),\n",
    "    torch.nn.BatchNorm1d(784),\n",
    "    torch.nn.ReLU(),\n",
    "    torch.nn.Linear(784,392),\n",
    "    torch.nn.BatchNorm1d(392),\n",
    "    torch.nn.ReLU(),\n",
    "    torch.nn.Linear(392,98),\n",
    "    torch.nn.BatchNorm1d(98),\n",
    "    torch.nn.ReLU(),\n",
    "    torch.nn.Linear(98, 49),\n",
    "    torch.nn.ReLU(),\n",
    "    torch.nn.Linear(49, 10)\n",
    ")"
   ]
  },
  {
   "cell_type": "code",
   "execution_count": 12,
   "id": "fbbd2fec",
   "metadata": {},
   "outputs": [],
   "source": [
    "model = model.to(dev)"
   ]
  },
  {
   "cell_type": "code",
   "execution_count": 13,
   "id": "6d6d7966",
   "metadata": {},
   "outputs": [],
   "source": [
    "loss = torch.nn.CrossEntropyLoss()\n",
    "trainer = torch.optim.AdamW(model.parameters(), lr=.0001)\n",
    "num_epochs = 50"
   ]
  },
  {
   "cell_type": "code",
   "execution_count": null,
   "id": "c8abae29",
   "metadata": {},
   "outputs": [
    {
     "name": "stdout",
     "output_type": "stream",
     "text": [
      "ep: 1, taked: 6.012, train_loss: 1.2751301,    train_acc: 0.7542500, test_loss: 0.7064031,    test_acc: 0.837900\n"
     ]
    },
    {
     "name": "stderr",
     "output_type": "stream",
     "text": [
      "\r",
      "26427392it [00:30, 1936435.34it/s]                                              "
     ]
    },
    {
     "name": "stdout",
     "output_type": "stream",
     "text": [
      "ep: 2, taked: 5.893, train_loss: 0.5624657,    train_acc: 0.8583333, test_loss: 0.4311965,    test_acc: 0.865700\n",
      "ep: 3, taked: 5.826, train_loss: 0.3981787,    train_acc: 0.8747500, test_loss: 0.3643906,    test_acc: 0.875000\n",
      "ep: 4, taked: 5.779, train_loss: 0.3414395,    train_acc: 0.8847667, test_loss: 0.3428118,    test_acc: 0.877600\n",
      "ep: 5, taked: 6.403, train_loss: 0.3082945,    train_acc: 0.8930833, test_loss: 0.3261966,    test_acc: 0.879900\n"
     ]
    }
   ],
   "source": [
    "for ep in range(num_epochs):\n",
    "    train_iters, train_passed = 0, 0\n",
    "    train_loss, train_acc = 0., 0.\n",
    "    start=time.time()\n",
    "\n",
    "    model.train()\n",
    "    for X, y in train:\n",
    "        trainer.zero_grad()\n",
    "        X, y = X.to(dev), y.to(dev)\n",
    "        y_pred = model(X)\n",
    "        l = loss(y_pred, y)\n",
    "        l.backward()\n",
    "        trainer.step()\n",
    "        train_loss += l.item()\n",
    "        train_acc += (y_pred.argmax(dim=1) == y).sum().item()\n",
    "        train_iters += 1\n",
    "        train_passed += len(X)\n",
    "    test_iters, test_passed = 0, 0\n",
    "    test_loss, test_acc = 0., 0.\n",
    "    \n",
    "    model.eval()\n",
    "    for X, y in test:\n",
    "        X, y = X.to(dev), y.to(dev)\n",
    "        y_pred = model(X)\n",
    "        l = loss(y_pred, y)\n",
    "        test_loss += l.item()\n",
    "        test_acc += (y_pred.argmax(dim=1) == y).sum().item()\n",
    "        test_iters += 1\n",
    "        test_passed += len(X)\n",
    "        \n",
    "    \n",
    "    print(f\"ep: {ep + 1}, taked: {time.time()-start:.3f}, train_loss: {train_loss/train_iters:.7f},\\\n",
    "    train_acc: {train_acc/train_passed:.7f}, test_loss: {test_loss/test_iters:.7f},\\\n",
    "    test_acc: {test_acc/test_passed:7f}\")"
   ]
  },
  {
   "cell_type": "code",
   "execution_count": null,
   "id": "3c5ffe91",
   "metadata": {},
   "outputs": [],
   "source": []
  },
  {
   "cell_type": "code",
   "execution_count": null,
   "id": "ca467203",
   "metadata": {},
   "outputs": [],
   "source": []
  }
 ],
 "metadata": {
  "kernelspec": {
   "display_name": "Python 3",
   "language": "python",
   "name": "python3"
  },
  "language_info": {
   "codemirror_mode": {
    "name": "ipython",
    "version": 3
   },
   "file_extension": ".py",
   "mimetype": "text/x-python",
   "name": "python",
   "nbconvert_exporter": "python",
   "pygments_lexer": "ipython3",
   "version": "3.7.3"
  }
 },
 "nbformat": 4,
 "nbformat_minor": 5
}
