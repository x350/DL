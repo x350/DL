{
 "cells": [
  {
   "cell_type": "code",
   "execution_count": 36,
   "id": "b8e8dc91",
   "metadata": {},
   "outputs": [],
   "source": [
    "import torch\n",
    "import numpy as np\n",
    "import matplotlib.pyplot as plt\n",
    "%matplotlib inline"
   ]
  },
  {
   "cell_type": "markdown",
   "id": "fb000bcd",
   "metadata": {},
   "source": [
    "### FashionMNIST."
   ]
  },
  {
   "cell_type": "code",
   "execution_count": 37,
   "id": "d75c8b82",
   "metadata": {},
   "outputs": [],
   "source": [
    "import torchvision as tv\n",
    "import time"
   ]
  },
  {
   "cell_type": "code",
   "execution_count": 38,
   "id": "bf741e51",
   "metadata": {},
   "outputs": [],
   "source": [
    "BATCH_SIZE = 256"
   ]
  },
  {
   "cell_type": "code",
   "execution_count": 39,
   "id": "b4c5c6c2",
   "metadata": {},
   "outputs": [],
   "source": [
    "train_dataset = tv.datasets.FashionMNIST('.', train=True, transform=tv.transforms.ToTensor(), download=True)\n",
    "test_dataset  = tv.datasets.FashionMNIST('.', train=False, transform=tv.transforms.ToTensor(), download=True)\n",
    "train = torch.utils.data.DataLoader(train_dataset, batch_size=BATCH_SIZE)\n",
    "test = torch.utils.data.DataLoader(test_dataset, batch_size=BATCH_SIZE)"
   ]
  },
  {
   "cell_type": "markdown",
   "id": "00e11f2e",
   "metadata": {},
   "source": [
    "### Знакомство с данными"
   ]
  },
  {
   "cell_type": "code",
   "execution_count": 40,
   "id": "d4ab2e51",
   "metadata": {},
   "outputs": [
    {
     "data": {
      "text/plain": [
       "<matplotlib.image.AxesImage at 0x7f5db0c5d5f8>"
      ]
     },
     "execution_count": 40,
     "metadata": {},
     "output_type": "execute_result"
    },
    {
     "data": {
      "image/png": "[encoded data removed]",
      "text/plain": [
       "<Figure size 432x288 with 1 Axes>"
      ]
     },
     "metadata": {
      "needs_background": "light"
     },
     "output_type": "display_data"
    }
   ],
   "source": [
    "plt.imshow(train_dataset[505][0].numpy().reshape(28, 28), cmap='gray')"
   ]
  },
  {
   "cell_type": "code",
   "execution_count": 41,
   "id": "c46ec6de",
   "metadata": {},
   "outputs": [
    {
     "data": {
      "text/plain": [
       "2"
      ]
     },
     "execution_count": 41,
     "metadata": {},
     "output_type": "execute_result"
    }
   ],
   "source": [
    "train_dataset[505][1]"
   ]
  },
  {
   "cell_type": "code",
   "execution_count": 42,
   "id": "6a9ec515",
   "metadata": {},
   "outputs": [
    {
     "data": {
      "text/plain": [
       "['T-shirt/top',\n",
       " 'Trouser',\n",
       " 'Pullover',\n",
       " 'Dress',\n",
       " 'Coat',\n",
       " 'Sandal',\n",
       " 'Shirt',\n",
       " 'Sneaker',\n",
       " 'Bag',\n",
       " 'Ankle boot']"
      ]
     },
     "execution_count": 42,
     "metadata": {},
     "output_type": "execute_result"
    }
   ],
   "source": [
    "train_dataset.classes"
   ]
  },
  {
   "cell_type": "code",
   "execution_count": 43,
   "id": "d72fd894",
   "metadata": {},
   "outputs": [
    {
     "data": {
      "text/plain": [
       "torch.Size([60000, 28, 28])"
      ]
     },
     "execution_count": 43,
     "metadata": {},
     "output_type": "execute_result"
    }
   ],
   "source": [
    "train_dataset.data.shape"
   ]
  },
  {
   "cell_type": "code",
   "execution_count": 44,
   "id": "0a33ee0b",
   "metadata": {},
   "outputs": [
    {
     "data": {
      "text/plain": [
       "torch.Size([1, 28, 28])"
      ]
     },
     "execution_count": 44,
     "metadata": {},
     "output_type": "execute_result"
    }
   ],
   "source": [
    "train_dataset[0][0].shape"
   ]
  },
  {
   "cell_type": "markdown",
   "id": "85971b57",
   "metadata": {},
   "source": [
    "## Модель"
   ]
  },
  {
   "cell_type": "code",
   "execution_count": 45,
   "id": "9e0c059b",
   "metadata": {},
   "outputs": [
    {
     "data": {
      "text/plain": [
       "device(type='cuda')"
      ]
     },
     "execution_count": 45,
     "metadata": {},
     "output_type": "execute_result"
    }
   ],
   "source": [
    "dev = torch.device(\"cuda\") if torch.cuda.is_available() else torch.device(\"cpu\"); dev"
   ]
  },
  {
   "cell_type": "code",
   "execution_count": 46,
   "id": "606d2457",
   "metadata": {},
   "outputs": [],
   "source": [
    "model = torch.nn.Sequential(\n",
    "    torch.nn.Flatten(),\n",
    "    torch.nn.BatchNorm1d(784),\n",
    "    torch.nn.Linear(784,1568),\n",
    "    torch.nn.Dropout(),\n",
    "    torch.nn.ReLU(),\n",
    "    torch.nn.Linear(1568, 784),\n",
    "    torch.nn.BatchNorm1d(784),\n",
    "    torch.nn.ReLU(),\n",
    "    torch.nn.Linear(784,392),\n",
    "    torch.nn.BatchNorm1d(392),\n",
    "    torch.nn.ReLU(),\n",
    "    torch.nn.Linear(392,98),\n",
    "    torch.nn.BatchNorm1d(98),\n",
    "    torch.nn.ReLU(),\n",
    "    torch.nn.Linear(98, 49),\n",
    "    torch.nn.ReLU(),\n",
    "    torch.nn.Linear(49, 10)\n",
    ")"
   ]
  },
  {
   "cell_type": "code",
   "execution_count": 47,
   "id": "fbbd2fec",
   "metadata": {},
   "outputs": [],
   "source": [
    "model = model.to(dev)"
   ]
  },
  {
   "cell_type": "code",
   "execution_count": 48,
   "id": "6d6d7966",
   "metadata": {},
   "outputs": [],
   "source": [
    "loss = torch.nn.CrossEntropyLoss()\n",
    "trainer = torch.optim.AdamW(model.parameters(), lr=.0001)\n",
    "num_epochs = 50"
   ]
  },
  {
   "cell_type": "code",
   "execution_count": 49,
   "id": "c8abae29",
   "metadata": {},
   "outputs": [
    {
     "name": "stdout",
     "output_type": "stream",
     "text": [
      "ep: 1, taked: 5.201, train_loss: 1.2413728,    train_acc: 0.7433667, test_loss: 0.6980014,    test_acc: 0.830300\n",
      "ep: 2, taked: 5.190, train_loss: 0.5524343,    train_acc: 0.8551833, test_loss: 0.4225092,    test_acc: 0.866000\n",
      "ep: 3, taked: 5.354, train_loss: 0.3945898,    train_acc: 0.8739000, test_loss: 0.3663657,    test_acc: 0.873300\n",
      "ep: 4, taked: 5.349, train_loss: 0.3384779,    train_acc: 0.8862000, test_loss: 0.3407968,    test_acc: 0.879800\n",
      "ep: 5, taked: 5.272, train_loss: 0.3082359,    train_acc: 0.8925167, test_loss: 0.3266042,    test_acc: 0.884900\n",
      "ep: 6, taked: 5.173, train_loss: 0.2854018,    train_acc: 0.8984833, test_loss: 0.3139289,    test_acc: 0.885600\n",
      "ep: 7, taked: 5.438, train_loss: 0.2673304,    train_acc: 0.9035000, test_loss: 0.3100778,    test_acc: 0.887400\n",
      "ep: 8, taked: 5.577, train_loss: 0.2514966,    train_acc: 0.9089167, test_loss: 0.3079917,    test_acc: 0.888000\n",
      "ep: 9, taked: 5.349, train_loss: 0.2389509,    train_acc: 0.9136500, test_loss: 0.3022425,    test_acc: 0.890900\n",
      "ep: 10, taked: 5.518, train_loss: 0.2246846,    train_acc: 0.9180000, test_loss: 0.3028411,    test_acc: 0.893600\n",
      "ep: 11, taked: 5.360, train_loss: 0.2181900,    train_acc: 0.9209167, test_loss: 0.3026873,    test_acc: 0.894000\n",
      "ep: 12, taked: 5.166, train_loss: 0.2048494,    train_acc: 0.9248667, test_loss: 0.3022226,    test_acc: 0.896100\n",
      "ep: 13, taked: 5.118, train_loss: 0.1955515,    train_acc: 0.9286833, test_loss: 0.3050253,    test_acc: 0.895100\n",
      "ep: 14, taked: 5.096, train_loss: 0.1877821,    train_acc: 0.9317500, test_loss: 0.3035827,    test_acc: 0.897800\n",
      "ep: 15, taked: 5.083, train_loss: 0.1785219,    train_acc: 0.9352000, test_loss: 0.2987823,    test_acc: 0.901000\n",
      "ep: 16, taked: 5.138, train_loss: 0.1697035,    train_acc: 0.9378500, test_loss: 0.3026819,    test_acc: 0.900600\n",
      "ep: 17, taked: 5.178, train_loss: 0.1636010,    train_acc: 0.9407333, test_loss: 0.3121217,    test_acc: 0.895300\n",
      "ep: 18, taked: 5.116, train_loss: 0.1562185,    train_acc: 0.9425667, test_loss: 0.3184158,    test_acc: 0.899700\n",
      "ep: 19, taked: 5.182, train_loss: 0.1501242,    train_acc: 0.9446500, test_loss: 0.3075253,    test_acc: 0.899700\n",
      "ep: 20, taked: 5.080, train_loss: 0.1438667,    train_acc: 0.9468667, test_loss: 0.3139481,    test_acc: 0.900200\n",
      "ep: 21, taked: 5.081, train_loss: 0.1360834,    train_acc: 0.9501000, test_loss: 0.3160281,    test_acc: 0.900200\n",
      "ep: 22, taked: 5.073, train_loss: 0.1311457,    train_acc: 0.9512333, test_loss: 0.3182912,    test_acc: 0.902500\n",
      "ep: 23, taked: 5.098, train_loss: 0.1270595,    train_acc: 0.9525833, test_loss: 0.3239779,    test_acc: 0.900400\n",
      "ep: 24, taked: 5.131, train_loss: 0.1205572,    train_acc: 0.9558167, test_loss: 0.3320532,    test_acc: 0.897900\n",
      "ep: 25, taked: 5.034, train_loss: 0.1175118,    train_acc: 0.9567667, test_loss: 0.3383475,    test_acc: 0.899600\n",
      "ep: 26, taked: 5.023, train_loss: 0.1097009,    train_acc: 0.9599000, test_loss: 0.3451103,    test_acc: 0.897600\n",
      "ep: 27, taked: 5.036, train_loss: 0.1080756,    train_acc: 0.9603500, test_loss: 0.3493908,    test_acc: 0.897700\n",
      "ep: 28, taked: 5.056, train_loss: 0.1024275,    train_acc: 0.9631833, test_loss: 0.3481008,    test_acc: 0.899700\n",
      "ep: 29, taked: 5.071, train_loss: 0.0995647,    train_acc: 0.9635167, test_loss: 0.3440779,    test_acc: 0.899400\n",
      "ep: 30, taked: 5.071, train_loss: 0.0955434,    train_acc: 0.9647000, test_loss: 0.3616073,    test_acc: 0.898000\n",
      "ep: 31, taked: 5.030, train_loss: 0.0932766,    train_acc: 0.9658500, test_loss: 0.3540953,    test_acc: 0.899400\n",
      "ep: 32, taked: 5.026, train_loss: 0.0901028,    train_acc: 0.9675167, test_loss: 0.3644639,    test_acc: 0.899700\n",
      "ep: 33, taked: 5.042, train_loss: 0.0843763,    train_acc: 0.9688833, test_loss: 0.3769557,    test_acc: 0.899100\n",
      "ep: 34, taked: 5.070, train_loss: 0.0812028,    train_acc: 0.9705333, test_loss: 0.3632251,    test_acc: 0.898700\n",
      "ep: 35, taked: 5.064, train_loss: 0.0805721,    train_acc: 0.9700000, test_loss: 0.3861375,    test_acc: 0.898300\n",
      "ep: 36, taked: 5.132, train_loss: 0.0767408,    train_acc: 0.9712333, test_loss: 0.3817959,    test_acc: 0.898900\n",
      "ep: 37, taked: 5.324, train_loss: 0.0744576,    train_acc: 0.9725333, test_loss: 0.3803659,    test_acc: 0.901700\n",
      "ep: 38, taked: 5.458, train_loss: 0.0706476,    train_acc: 0.9741500, test_loss: 0.3935053,    test_acc: 0.899800\n",
      "ep: 39, taked: 5.556, train_loss: 0.0683910,    train_acc: 0.9746833, test_loss: 0.3922616,    test_acc: 0.901000\n",
      "ep: 40, taked: 5.459, train_loss: 0.0681457,    train_acc: 0.9744833, test_loss: 0.4120730,    test_acc: 0.898200\n",
      "ep: 41, taked: 5.344, train_loss: 0.0665818,    train_acc: 0.9752833, test_loss: 0.3988079,    test_acc: 0.901400\n",
      "ep: 42, taked: 5.133, train_loss: 0.0622331,    train_acc: 0.9773333, test_loss: 0.4062798,    test_acc: 0.902600\n",
      "ep: 43, taked: 5.457, train_loss: 0.0600872,    train_acc: 0.9777333, test_loss: 0.4238215,    test_acc: 0.898500\n",
      "ep: 44, taked: 5.297, train_loss: 0.0607422,    train_acc: 0.9775333, test_loss: 0.4234567,    test_acc: 0.899600\n",
      "ep: 45, taked: 5.291, train_loss: 0.0583289,    train_acc: 0.9782500, test_loss: 0.4192830,    test_acc: 0.901700\n",
      "ep: 46, taked: 5.122, train_loss: 0.0582448,    train_acc: 0.9780833, test_loss: 0.4188882,    test_acc: 0.900700\n",
      "ep: 47, taked: 5.144, train_loss: 0.0536373,    train_acc: 0.9801667, test_loss: 0.4239561,    test_acc: 0.901000\n",
      "ep: 48, taked: 5.242, train_loss: 0.0575473,    train_acc: 0.9784833, test_loss: 0.4179818,    test_acc: 0.901700\n",
      "ep: 49, taked: 5.310, train_loss: 0.0512716,    train_acc: 0.9806667, test_loss: 0.4380386,    test_acc: 0.900700\n",
      "ep: 50, taked: 5.186, train_loss: 0.0505230,    train_acc: 0.9807000, test_loss: 0.4154545,    test_acc: 0.904300\n"
     ]
    }
   ],
   "source": [
    "for ep in range(num_epochs):\n",
    "    train_iters, train_passed = 0, 0\n",
    "    train_loss, train_acc = 0., 0.\n",
    "    start=time.time()\n",
    "\n",
    "    model.train()\n",
    "    for X, y in train:\n",
    "        trainer.zero_grad()\n",
    "        X, y = X.to(dev), y.to(dev)\n",
    "        y_pred = model(X)\n",
    "        l = loss(y_pred, y)\n",
    "        l.backward()\n",
    "        trainer.step()\n",
    "        train_loss += l.item()\n",
    "        train_acc += (y_pred.argmax(dim=1) == y).sum().item()\n",
    "        train_iters += 1\n",
    "        train_passed += len(X)\n",
    "        \n",
    "    test_iters, test_passed = 0, 0\n",
    "    test_loss, test_acc = 0., 0.\n",
    "    \n",
    "    model.eval()\n",
    "    with torch.no_grad():\n",
    "        for X, y in test:\n",
    "            X, y = X.to(dev), y.to(dev)\n",
    "            y_pred = model(X)\n",
    "            l = loss(y_pred, y)\n",
    "            test_loss += l.item()\n",
    "            test_acc += (y_pred.argmax(dim=1) == y).sum().item()\n",
    "            test_iters += 1\n",
    "            test_passed += len(X)\n",
    "        \n",
    "    \n",
    "    print(f\"ep: {ep + 1}, taked: {time.time()-start:.3f}, train_loss: {train_loss/train_iters:.7f},\\\n",
    "    train_acc: {train_acc/train_passed:.7f}, test_loss: {test_loss/test_iters:.7f},\\\n",
    "    test_acc: {test_acc/test_passed:7f}\")"
   ]
  },
  {
   "cell_type": "code",
   "execution_count": null,
   "id": "6265e6f9",
   "metadata": {},
   "outputs": [],
   "source": []
  },
  {
   "cell_type": "code",
   "execution_count": null,
   "id": "e19eb63a",
   "metadata": {},
   "outputs": [],
   "source": []
  },
  {
   "cell_type": "code",
   "execution_count": null,
   "id": "940f5ee3",
   "metadata": {},
   "outputs": [],
   "source": []
  }
 ],
 "metadata": {
  "kernelspec": {
   "display_name": "Python 3",
   "language": "python",
   "name": "python3"
  },
  "language_info": {
   "codemirror_mode": {
    "name": "ipython",
    "version": 3
   },
   "file_extension": ".py",
   "mimetype": "text/x-python",
   "name": "python",
   "nbconvert_exporter": "python",
   "pygments_lexer": "ipython3",
   "version": "3.7.3"
  }
 },
 "nbformat": 4,
 "nbformat_minor": 5
}
