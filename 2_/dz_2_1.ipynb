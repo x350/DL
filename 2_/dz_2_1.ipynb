{
 "cells": [
  {
   "cell_type": "code",
   "execution_count": 1,
   "id": "b8e8dc91",
   "metadata": {},
   "outputs": [],
   "source": [
    "import torch\n",
    "import numpy as np\n",
    "import matplotlib.pyplot as plt\n",
    "%matplotlib inline"
   ]
  },
  {
   "cell_type": "markdown",
   "id": "fb000bcd",
   "metadata": {},
   "source": [
    "### FashionMNIST."
   ]
  },
  {
   "cell_type": "code",
   "execution_count": 2,
   "id": "d75c8b82",
   "metadata": {},
   "outputs": [],
   "source": [
    "import torchvision as tv\n",
    "import time"
   ]
  },
  {
   "cell_type": "code",
   "execution_count": 3,
   "id": "bf741e51",
   "metadata": {},
   "outputs": [],
   "source": [
    "BATCH_SIZE = 256"
   ]
  },
  {
   "cell_type": "code",
   "execution_count": 19,
   "id": "b4c5c6c2",
   "metadata": {},
   "outputs": [],
   "source": [
    "train_dataset = tv.datasets.FashionMNIST('.', train=True, transform=tv.transforms.ToTensor(), download=True)\n",
    "test_dataset  = tv.datasets.FashionMNIST('.', train=False, transform=tv.transforms.ToTensor(), download=True)\n",
    "train = torch.utils.data.DataLoader(train_dataset, batch_size=BATCH_SIZE)\n",
    "test = torch.utils.data.DataLoader(test_dataset, batch_size=BATCH_SIZE)"
   ]
  },
  {
   "cell_type": "markdown",
   "id": "00e11f2e",
   "metadata": {},
   "source": [
    "### Знакомство с данными"
   ]
  },
  {
   "cell_type": "code",
   "execution_count": 5,
   "id": "d4ab2e51",
   "metadata": {},
   "outputs": [
    {
     "data": {
      "text/plain": [
       "<matplotlib.image.AxesImage at 0x7fd9b8ef5e48>"
      ]
     },
     "execution_count": 5,
     "metadata": {},
     "output_type": "execute_result"
    },
    {
     "data": {
      "image/png": "[encoded data removed]",
      "text/plain": [
       "<Figure size 432x288 with 1 Axes>"
      ]
     },
     "metadata": {
      "needs_background": "light"
     },
     "output_type": "display_data"
    }
   ],
   "source": [
    "plt.imshow(train_dataset[505][0].numpy().reshape(28, 28), cmap='gray')"
   ]
  },
  {
   "cell_type": "code",
   "execution_count": 6,
   "id": "c46ec6de",
   "metadata": {},
   "outputs": [
    {
     "data": {
      "text/plain": [
       "2"
      ]
     },
     "execution_count": 6,
     "metadata": {},
     "output_type": "execute_result"
    }
   ],
   "source": [
    "train_dataset[505][1]"
   ]
  },
  {
   "cell_type": "code",
   "execution_count": 7,
   "id": "6a9ec515",
   "metadata": {},
   "outputs": [
    {
     "data": {
      "text/plain": [
       "['T-shirt/top',\n",
       " 'Trouser',\n",
       " 'Pullover',\n",
       " 'Dress',\n",
       " 'Coat',\n",
       " 'Sandal',\n",
       " 'Shirt',\n",
       " 'Sneaker',\n",
       " 'Bag',\n",
       " 'Ankle boot']"
      ]
     },
     "execution_count": 7,
     "metadata": {},
     "output_type": "execute_result"
    }
   ],
   "source": [
    "train_dataset.classes"
   ]
  },
  {
   "cell_type": "code",
   "execution_count": 8,
   "id": "d72fd894",
   "metadata": {},
   "outputs": [
    {
     "data": {
      "text/plain": [
       "torch.Size([60000, 28, 28])"
      ]
     },
     "execution_count": 8,
     "metadata": {},
     "output_type": "execute_result"
    }
   ],
   "source": [
    "train_dataset.data.shape"
   ]
  },
  {
   "cell_type": "code",
   "execution_count": 9,
   "id": "0a33ee0b",
   "metadata": {},
   "outputs": [
    {
     "data": {
      "text/plain": [
       "torch.Size([1, 28, 28])"
      ]
     },
     "execution_count": 9,
     "metadata": {},
     "output_type": "execute_result"
    }
   ],
   "source": [
    "train_dataset[0][0].shape"
   ]
  },
  {
   "cell_type": "markdown",
   "id": "85971b57",
   "metadata": {},
   "source": [
    "## Модель"
   ]
  },
  {
   "cell_type": "code",
   "execution_count": 10,
   "id": "9e0c059b",
   "metadata": {},
   "outputs": [
    {
     "data": {
      "text/plain": [
       "device(type='cuda')"
      ]
     },
     "execution_count": 10,
     "metadata": {},
     "output_type": "execute_result"
    }
   ],
   "source": [
    "dev = torch.device(\"cuda\") if torch.cuda.is_available() else torch.device(\"cpu\"); dev"
   ]
  },
  {
   "cell_type": "code",
   "execution_count": 20,
   "id": "606d2457",
   "metadata": {},
   "outputs": [],
   "source": [
    "model = torch.nn.Sequential(\n",
    "    torch.nn.Flatten(),\n",
    "    torch.nn.BatchNorm1d(784),\n",
    "    torch.nn.Linear(784,1568),\n",
    "    torch.nn.Dropout(),\n",
    "    torch.nn.ReLU(),\n",
    "    torch.nn.Linear(1568, 784),\n",
    "    torch.nn.BatchNorm1d(784),\n",
    "    torch.nn.ReLU(),\n",
    "    torch.nn.Linear(784,392),\n",
    "    torch.nn.BatchNorm1d(392),\n",
    "    torch.nn.ReLU(),\n",
    "    torch.nn.Linear(392,98),\n",
    "    torch.nn.BatchNorm1d(98),\n",
    "    torch.nn.ReLU(),\n",
    "    torch.nn.Linear(98, 49),\n",
    "    torch.nn.ReLU(),\n",
    "    torch.nn.Linear(49, 10)\n",
    ")"
   ]
  },
  {
   "cell_type": "code",
   "execution_count": 21,
   "id": "fbbd2fec",
   "metadata": {},
   "outputs": [],
   "source": [
    "model = model.to(dev)"
   ]
  },
  {
   "cell_type": "code",
   "execution_count": 22,
   "id": "6d6d7966",
   "metadata": {},
   "outputs": [],
   "source": [
    "loss = torch.nn.CrossEntropyLoss()\n",
    "trainer = torch.optim.AdamW(model.parameters(), lr=.0001)\n",
    "num_epochs = 50"
   ]
  },
  {
   "cell_type": "code",
   "execution_count": 23,
   "id": "c8abae29",
   "metadata": {},
   "outputs": [
    {
     "name": "stdout",
     "output_type": "stream",
     "text": [
      "ep: 1, taked: 5.502, train_loss: 1.2180376,    train_acc: 0.7600500, test_loss: 0.6749445,    test_acc: 0.837700\n",
      "ep: 2, taked: 5.509, train_loss: 0.5444934,    train_acc: 0.8561167, test_loss: 0.4180001,    test_acc: 0.864700\n",
      "ep: 3, taked: 5.351, train_loss: 0.3903784,    train_acc: 0.8765667, test_loss: 0.3630285,    test_acc: 0.873700\n",
      "ep: 4, taked: 5.289, train_loss: 0.3372032,    train_acc: 0.8858333, test_loss: 0.3407022,    test_acc: 0.876200\n",
      "ep: 5, taked: 5.400, train_loss: 0.3058056,    train_acc: 0.8936333, test_loss: 0.3254117,    test_acc: 0.880400\n",
      "ep: 6, taked: 5.233, train_loss: 0.2848833,    train_acc: 0.8991167, test_loss: 0.3155087,    test_acc: 0.883900\n",
      "ep: 7, taked: 5.197, train_loss: 0.2669202,    train_acc: 0.9046167, test_loss: 0.3162977,    test_acc: 0.885200\n",
      "ep: 8, taked: 5.195, train_loss: 0.2536533,    train_acc: 0.9083333, test_loss: 0.3140628,    test_acc: 0.884900\n",
      "ep: 9, taked: 5.180, train_loss: 0.2400539,    train_acc: 0.9127833, test_loss: 0.3106581,    test_acc: 0.889300\n",
      "ep: 10, taked: 5.188, train_loss: 0.2281348,    train_acc: 0.9170167, test_loss: 0.3075292,    test_acc: 0.889800\n",
      "ep: 11, taked: 5.181, train_loss: 0.2159146,    train_acc: 0.9217000, test_loss: 0.3069248,    test_acc: 0.893000\n",
      "ep: 12, taked: 5.191, train_loss: 0.2055558,    train_acc: 0.9256833, test_loss: 0.3064678,    test_acc: 0.893000\n",
      "ep: 13, taked: 5.181, train_loss: 0.1981425,    train_acc: 0.9284167, test_loss: 0.3070538,    test_acc: 0.894300\n",
      "ep: 14, taked: 5.177, train_loss: 0.1882774,    train_acc: 0.9318167, test_loss: 0.3051614,    test_acc: 0.895500\n",
      "ep: 15, taked: 5.197, train_loss: 0.1816058,    train_acc: 0.9336333, test_loss: 0.3055809,    test_acc: 0.896100\n",
      "ep: 16, taked: 5.184, train_loss: 0.1713080,    train_acc: 0.9370000, test_loss: 0.3046423,    test_acc: 0.898000\n",
      "ep: 17, taked: 5.185, train_loss: 0.1667193,    train_acc: 0.9388167, test_loss: 0.3102615,    test_acc: 0.894700\n",
      "ep: 18, taked: 5.189, train_loss: 0.1561878,    train_acc: 0.9420500, test_loss: 0.3060387,    test_acc: 0.900000\n",
      "ep: 19, taked: 5.178, train_loss: 0.1493546,    train_acc: 0.9448500, test_loss: 0.3185676,    test_acc: 0.898400\n",
      "ep: 20, taked: 5.180, train_loss: 0.1455593,    train_acc: 0.9468667, test_loss: 0.3230579,    test_acc: 0.898100\n",
      "ep: 21, taked: 5.197, train_loss: 0.1411343,    train_acc: 0.9485167, test_loss: 0.3255051,    test_acc: 0.896800\n",
      "ep: 22, taked: 5.184, train_loss: 0.1328685,    train_acc: 0.9513500, test_loss: 0.3158193,    test_acc: 0.898900\n",
      "ep: 23, taked: 5.132, train_loss: 0.1266266,    train_acc: 0.9535833, test_loss: 0.3277860,    test_acc: 0.898700\n",
      "ep: 24, taked: 5.120, train_loss: 0.1241567,    train_acc: 0.9527000, test_loss: 0.3246865,    test_acc: 0.901300\n",
      "ep: 25, taked: 5.103, train_loss: 0.1159679,    train_acc: 0.9577000, test_loss: 0.3406783,    test_acc: 0.898500\n",
      "ep: 26, taked: 5.146, train_loss: 0.1128230,    train_acc: 0.9585667, test_loss: 0.3403549,    test_acc: 0.899100\n",
      "ep: 27, taked: 5.215, train_loss: 0.1090757,    train_acc: 0.9599500, test_loss: 0.3365307,    test_acc: 0.901500\n",
      "ep: 28, taked: 5.208, train_loss: 0.1024214,    train_acc: 0.9622333, test_loss: 0.3394857,    test_acc: 0.900900\n",
      "ep: 29, taked: 5.210, train_loss: 0.1014786,    train_acc: 0.9624833, test_loss: 0.3567854,    test_acc: 0.900700\n",
      "ep: 30, taked: 5.373, train_loss: 0.0946306,    train_acc: 0.9653333, test_loss: 0.3519157,    test_acc: 0.901900\n",
      "ep: 31, taked: 5.316, train_loss: 0.0937907,    train_acc: 0.9652667, test_loss: 0.3575536,    test_acc: 0.899400\n",
      "ep: 32, taked: 5.295, train_loss: 0.0896196,    train_acc: 0.9666833, test_loss: 0.3665481,    test_acc: 0.903400\n",
      "ep: 33, taked: 5.273, train_loss: 0.0862232,    train_acc: 0.9685667, test_loss: 0.3639475,    test_acc: 0.902100\n",
      "ep: 34, taked: 5.199, train_loss: 0.0860176,    train_acc: 0.9678667, test_loss: 0.3695181,    test_acc: 0.902100\n",
      "ep: 35, taked: 5.183, train_loss: 0.0800046,    train_acc: 0.9698000, test_loss: 0.3694122,    test_acc: 0.900800\n",
      "ep: 36, taked: 5.179, train_loss: 0.0782324,    train_acc: 0.9708500, test_loss: 0.3780456,    test_acc: 0.900600\n",
      "ep: 37, taked: 5.181, train_loss: 0.0765372,    train_acc: 0.9712833, test_loss: 0.3854048,    test_acc: 0.902000\n",
      "ep: 38, taked: 5.169, train_loss: 0.0708720,    train_acc: 0.9741500, test_loss: 0.3901616,    test_acc: 0.899000\n",
      "ep: 39, taked: 5.180, train_loss: 0.0723944,    train_acc: 0.9731167, test_loss: 0.3844785,    test_acc: 0.899900\n",
      "ep: 40, taked: 5.181, train_loss: 0.0682010,    train_acc: 0.9739500, test_loss: 0.3917623,    test_acc: 0.900100\n",
      "ep: 41, taked: 5.166, train_loss: 0.0667553,    train_acc: 0.9752833, test_loss: 0.4006939,    test_acc: 0.903200\n",
      "ep: 42, taked: 5.156, train_loss: 0.0652818,    train_acc: 0.9758833, test_loss: 0.3980366,    test_acc: 0.903000\n",
      "ep: 43, taked: 5.181, train_loss: 0.0627046,    train_acc: 0.9768500, test_loss: 0.3959201,    test_acc: 0.901400\n",
      "ep: 44, taked: 5.196, train_loss: 0.0596086,    train_acc: 0.9778000, test_loss: 0.4136022,    test_acc: 0.903000\n",
      "ep: 45, taked: 5.173, train_loss: 0.0608778,    train_acc: 0.9772000, test_loss: 0.4089342,    test_acc: 0.902800\n",
      "ep: 46, taked: 5.173, train_loss: 0.0590240,    train_acc: 0.9780833, test_loss: 0.4095137,    test_acc: 0.900500\n",
      "ep: 47, taked: 5.183, train_loss: 0.0568591,    train_acc: 0.9787000, test_loss: 0.4316024,    test_acc: 0.899600\n",
      "ep: 48, taked: 5.200, train_loss: 0.0542073,    train_acc: 0.9799833, test_loss: 0.4118534,    test_acc: 0.904100\n",
      "ep: 49, taked: 5.187, train_loss: 0.0548448,    train_acc: 0.9795833, test_loss: 0.4275170,    test_acc: 0.900200\n",
      "ep: 50, taked: 5.169, train_loss: 0.0526374,    train_acc: 0.9806167, test_loss: 0.4194854,    test_acc: 0.903800\n"
     ]
    }
   ],
   "source": [
    "for ep in range(num_epochs):\n",
    "    train_iters, train_passed = 0, 0\n",
    "    train_loss, train_acc = 0., 0.\n",
    "    start=time.time()\n",
    "\n",
    "    model.train()\n",
    "    for X, y in train:\n",
    "        trainer.zero_grad()\n",
    "        X, y = X.to(dev), y.to(dev)\n",
    "        y_pred = model(X)\n",
    "        l = loss(y_pred, y)\n",
    "        l.backward()\n",
    "        trainer.step()\n",
    "        train_loss += l.item()\n",
    "        train_acc += (y_pred.argmax(dim=1) == y).sum().item()\n",
    "        train_iters += 1\n",
    "        train_passed += len(X)\n",
    "    test_iters, test_passed = 0, 0\n",
    "    test_loss, test_acc = 0., 0.\n",
    "    \n",
    "    model.eval()\n",
    "    for X, y in test:\n",
    "        X, y = X.to(dev), y.to(dev)\n",
    "        y_pred = model(X)\n",
    "        l = loss(y_pred, y)\n",
    "        test_loss += l.item()\n",
    "        test_acc += (y_pred.argmax(dim=1) == y).sum().item()\n",
    "        test_iters += 1\n",
    "        test_passed += len(X)\n",
    "        \n",
    "    \n",
    "    print(f\"ep: {ep + 1}, taked: {time.time()-start:.3f}, train_loss: {train_loss/train_iters:.7f},\\\n",
    "    train_acc: {train_acc/train_passed:.7f}, test_loss: {test_loss/test_iters:.7f},\\\n",
    "    test_acc: {test_acc/test_passed:7f}\")"
   ]
  },
  {
   "cell_type": "code",
   "execution_count": null,
   "id": "3c5ffe91",
   "metadata": {},
   "outputs": [],
   "source": []
  }
 ],
 "metadata": {
  "kernelspec": {
   "display_name": "Python 3",
   "language": "python",
   "name": "python3"
  },
  "language_info": {
   "codemirror_mode": {
    "name": "ipython",
    "version": 3
   },
   "file_extension": ".py",
   "mimetype": "text/x-python",
   "name": "python",
   "nbconvert_exporter": "python",
   "pygments_lexer": "ipython3",
   "version": "3.7.3"
  }
 },
 "nbformat": 4,
 "nbformat_minor": 5
}
