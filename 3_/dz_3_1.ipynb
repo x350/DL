{
 "cells": [
  {
   "cell_type": "code",
   "execution_count": 9,
   "id": "8605add7",
   "metadata": {},
   "outputs": [],
   "source": [
    "import torch\n",
    "from torch import nn\n",
    "import numpy as np\n",
    "import pandas as pd\n",
    "import matplotlib.pyplot as plt\n",
    "import time\n",
    "%matplotlib inline\n",
    "\n",
    "import torchvision as tv\n",
    "from torch.utils.data import TensorDataset, DataLoader\n",
    "\n",
    "import warnings\n",
    "warnings.filterwarnings('ignore')"
   ]
  },
  {
   "cell_type": "markdown",
   "id": "d1713a49",
   "metadata": {},
   "source": [
    "### FashionMNIST."
   ]
  },
  {
   "cell_type": "code",
   "execution_count": 10,
   "id": "386d91c2",
   "metadata": {},
   "outputs": [],
   "source": [
    "BATCH_SIZE = 256"
   ]
  },
  {
   "cell_type": "code",
   "execution_count": 25,
   "id": "78da680b",
   "metadata": {},
   "outputs": [],
   "source": [
    "train_dataset = tv.datasets.FashionMNIST('.', train=True, transform=tv.transforms.ToTensor(), download=True)\n",
    "test_dataset  = tv.datasets.FashionMNIST('.', train=False, transform=tv.transforms.ToTensor(), download=True)\n",
    "train = torch.utils.data.DataLoader(train_dataset, batch_size=BATCH_SIZE)\n",
    "test = torch.utils.data.DataLoader(test_dataset, batch_size=BATCH_SIZE)"
   ]
  },
  {
   "cell_type": "code",
   "execution_count": 12,
   "id": "c3fac324",
   "metadata": {},
   "outputs": [
    {
     "data": {
      "text/plain": [
       "<matplotlib.image.AxesImage at 0x7f7b1824bba8>"
      ]
     },
     "execution_count": 12,
     "metadata": {},
     "output_type": "execute_result"
    },
    {
     "data": {
      "image/png": "[encoded data removed]",
      "text/plain": [
       "<Figure size 432x288 with 1 Axes>"
      ]
     },
     "metadata": {
      "needs_background": "light"
     },
     "output_type": "display_data"
    }
   ],
   "source": [
    "plt.imshow(train_dataset[100][0].numpy().reshape(28, 28), cmap='gray')"
   ]
  },
  {
   "cell_type": "code",
   "execution_count": 13,
   "id": "f4a538f9",
   "metadata": {},
   "outputs": [
    {
     "data": {
      "text/plain": [
       "torch.Size([60000, 28, 28])"
      ]
     },
     "execution_count": 13,
     "metadata": {},
     "output_type": "execute_result"
    }
   ],
   "source": [
    "train_dataset.data.shape"
   ]
  },
  {
   "cell_type": "markdown",
   "id": "118ce018",
   "metadata": {},
   "source": [
    "### Сверточные слои и архитектура"
   ]
  },
  {
   "cell_type": "code",
   "execution_count": 67,
   "id": "1949ba2b",
   "metadata": {},
   "outputs": [
    {
     "data": {
      "text/plain": [
       "device(type='cuda')"
      ]
     },
     "execution_count": 67,
     "metadata": {},
     "output_type": "execute_result"
    }
   ],
   "source": [
    "dev = torch.device(\"cuda\") if torch.cuda.is_available() else torch.device(\"cpu\"); dev"
   ]
  },
  {
   "cell_type": "code",
   "execution_count": 68,
   "id": "01cd9276",
   "metadata": {},
   "outputs": [],
   "source": [
    "def evaluate(model, test_iter, dev):    \n",
    "    model.eval()\n",
    "    with torch.no_grad():\n",
    "        acc_sum = 0\n",
    "        count = 0\n",
    "        for X, y in test_iter:\n",
    "            X, y = X.to(dev), y.to(dev)\n",
    "            acc_sum += (model(X).argmax(axis=1) == y).sum().item()\n",
    "            count += y.shape[0]\n",
    "        return acc_sum / count"
   ]
  },
  {
   "cell_type": "code",
   "execution_count": 132,
   "id": "19d773eb",
   "metadata": {},
   "outputs": [],
   "source": [
    "def train_net(train_iter, test_iter, model, epochs, trainer):\n",
    "    dev = torch.device(\"cuda\") if torch.cuda.is_available() else torch.device(\"cpu\")\n",
    "    model = model.to(dev)\n",
    "    \n",
    "    loss = nn.CrossEntropyLoss(reduction='sum')\n",
    "    \n",
    "    for epoch in range(1, epochs + 1):\n",
    "        train_loss_sum, train_acc_sum, count, start = 0.0, 0.0, 0, time.time()\n",
    "        \n",
    "        model.train()\n",
    "        for X, y in train_iter:\n",
    "            trainer.zero_grad()\n",
    "            X, y = X.to(dev), y.to(dev)\n",
    "            predict = model(X)\n",
    "            l = loss(predict, y)\n",
    "            l.backward()\n",
    "            trainer.step()\n",
    "            train_loss_sum += l.item()\n",
    "            train_acc_sum += (predict.argmax(axis=1) == y).sum().item()\n",
    "            count += y.shape[0]\n",
    "                        \n",
    "        train_acc = train_acc_sum / count\n",
    "        train_loss  = train_loss_sum / count\n",
    "        test_acc = evaluate(model, test_iter, dev)\n",
    "        run = time.time() - start\n",
    "        \n",
    "        print(f\"epoch = {epoch}, train_acc = {train_acc:.7f}, train_loss = {train_loss:.7f}, test_acc = {test_acc:.7f}, time = {run:.7f}\")\n",
    "            \n",
    "    "
   ]
  },
  {
   "cell_type": "code",
   "execution_count": 133,
   "id": "3fb1b03c",
   "metadata": {},
   "outputs": [],
   "source": [
    "model = nn.Sequential(\n",
    "    nn.Conv2d(1, 32, kernel_size=2, padding=1),\n",
    "    nn.ReLU(),\n",
    "    nn.MaxPool2d(2, stride=2),\n",
    "    nn.Conv2d(32, 64, kernel_size=2, padding=2),\n",
    "    nn.ReLU(),\n",
    "    nn.MaxPool2d(2, stride=2),\n",
    "    nn.Conv2d(64, 64, kernel_size=3, padding=2),\n",
    "    nn.ReLU(),\n",
    "    nn.MaxPool2d( 2, stride=2),\n",
    "    nn.Conv2d(64, 32, kernel_size=3, padding=2),\n",
    "    nn.ReLU(),\n",
    "    nn.MaxPool2d(2, stride=2),\n",
    "    nn.Flatten(),\n",
    "    nn.Linear(288, 288),\n",
    "    nn.Dropout(0.5),\n",
    "    nn.ReLU(),\n",
    "    nn.Linear(288, 72),\n",
    "    nn.BatchNorm1d(72),\n",
    "    nn.ReLU(),\n",
    "    nn.Linear(72, 10),\n",
    "    \n",
    ")"
   ]
  },
  {
   "cell_type": "code",
   "execution_count": 136,
   "id": "fe6a6199",
   "metadata": {},
   "outputs": [
    {
     "name": "stdout",
     "output_type": "stream",
     "text": [
      "torch.Size([1, 1, 28, 28])\n",
      "Layer Conv2d(1, 32, kernel_size=(2, 2), stride=(1, 1), padding=(1, 1)). X shape: torch.Size([1, 32, 29, 29])\n",
      "Layer ReLU(). X shape: torch.Size([1, 32, 29, 29])\n",
      "Layer MaxPool2d(kernel_size=2, stride=2, padding=0, dilation=1, ceil_mode=False). X shape: torch.Size([1, 32, 14, 14])\n",
      "Layer Conv2d(32, 64, kernel_size=(2, 2), stride=(1, 1), padding=(2, 2)). X shape: torch.Size([1, 64, 17, 17])\n",
      "Layer ReLU(). X shape: torch.Size([1, 64, 17, 17])\n",
      "Layer MaxPool2d(kernel_size=2, stride=2, padding=0, dilation=1, ceil_mode=False). X shape: torch.Size([1, 64, 8, 8])\n",
      "Layer Conv2d(64, 64, kernel_size=(3, 3), stride=(1, 1), padding=(2, 2)). X shape: torch.Size([1, 64, 10, 10])\n",
      "Layer ReLU(). X shape: torch.Size([1, 64, 10, 10])\n",
      "Layer MaxPool2d(kernel_size=2, stride=2, padding=0, dilation=1, ceil_mode=False). X shape: torch.Size([1, 64, 5, 5])\n",
      "Layer Conv2d(64, 32, kernel_size=(3, 3), stride=(1, 1), padding=(2, 2)). X shape: torch.Size([1, 32, 7, 7])\n",
      "Layer ReLU(). X shape: torch.Size([1, 32, 7, 7])\n",
      "Layer MaxPool2d(kernel_size=2, stride=2, padding=0, dilation=1, ceil_mode=False). X shape: torch.Size([1, 32, 3, 3])\n",
      "Layer Flatten(). X shape: torch.Size([1, 288])\n",
      "Layer Linear(in_features=288, out_features=288, bias=True). X shape: torch.Size([1, 288])\n",
      "Layer Dropout(p=0.5, inplace=False). X shape: torch.Size([1, 288])\n",
      "Layer ReLU(). X shape: torch.Size([1, 288])\n",
      "Layer Linear(in_features=288, out_features=72, bias=True). X shape: torch.Size([1, 72])\n",
      "--------\n",
      "Layer BatchNorm1d(72, eps=1e-05, momentum=0.1, affine=True, track_running_stats=True). X shape: torch.Size([1, 72])\n",
      "Layer ReLU(). X shape: torch.Size([1, 72])\n",
      "Layer Linear(in_features=72, out_features=10, bias=True). X shape: torch.Size([1, 10])\n"
     ]
    }
   ],
   "source": [
    "def test_shape(model, X):\n",
    "    X = X.reshape(1, 1, 28, 28)\n",
    "    print(X.shape)\n",
    "    for l in model:\n",
    "        try:\n",
    "            X = l(X)\n",
    "        except: print('--------')\n",
    "        print(\"Layer {}. X shape: {}\".format(l, X.shape))\n",
    "\n",
    "test_shape(model, train_dataset[0][0])"
   ]
  },
  {
   "cell_type": "code",
   "execution_count": 137,
   "id": "536da669",
   "metadata": {},
   "outputs": [
    {
     "data": {
      "text/plain": [
       "Sequential(\n",
       "  (0): Conv2d(1, 32, kernel_size=(2, 2), stride=(1, 1), padding=(1, 1))\n",
       "  (1): ReLU()\n",
       "  (2): MaxPool2d(kernel_size=2, stride=2, padding=0, dilation=1, ceil_mode=False)\n",
       "  (3): Conv2d(32, 64, kernel_size=(2, 2), stride=(1, 1), padding=(2, 2))\n",
       "  (4): ReLU()\n",
       "  (5): MaxPool2d(kernel_size=2, stride=2, padding=0, dilation=1, ceil_mode=False)\n",
       "  (6): Conv2d(64, 64, kernel_size=(3, 3), stride=(1, 1), padding=(2, 2))\n",
       "  (7): ReLU()\n",
       "  (8): MaxPool2d(kernel_size=2, stride=2, padding=0, dilation=1, ceil_mode=False)\n",
       "  (9): Conv2d(64, 32, kernel_size=(3, 3), stride=(1, 1), padding=(2, 2))\n",
       "  (10): ReLU()\n",
       "  (11): MaxPool2d(kernel_size=2, stride=2, padding=0, dilation=1, ceil_mode=False)\n",
       "  (12): Flatten()\n",
       "  (13): Linear(in_features=288, out_features=288, bias=True)\n",
       "  (14): Dropout(p=0.5, inplace=False)\n",
       "  (15): ReLU()\n",
       "  (16): Linear(in_features=288, out_features=72, bias=True)\n",
       "  (17): BatchNorm1d(72, eps=1e-05, momentum=0.1, affine=True, track_running_stats=True)\n",
       "  (18): ReLU()\n",
       "  (19): Linear(in_features=72, out_features=10, bias=True)\n",
       ")"
      ]
     },
     "execution_count": 137,
     "metadata": {},
     "output_type": "execute_result"
    }
   ],
   "source": [
    "dev = torch.device(\"cuda\") if torch.cuda.is_available() else torch.device(\"cpu\"); dev\n",
    "model.to(dev)"
   ]
  },
  {
   "cell_type": "code",
   "execution_count": 139,
   "id": "f9c5011d",
   "metadata": {},
   "outputs": [],
   "source": [
    "epochs = 20\n",
    "learing_rate = 0.0005\n",
    "trainer = torch.optim.AdamW(model.parameters(), lr=learing_rate)"
   ]
  },
  {
   "cell_type": "code",
   "execution_count": 140,
   "id": "27cbd667",
   "metadata": {},
   "outputs": [
    {
     "name": "stdout",
     "output_type": "stream",
     "text": [
      "epoch = 1, train_acc = 0.7090667, train_loss = 0.9094893, test_acc = 0.8303000, time = 6.3545249\n",
      "epoch = 2, train_acc = 0.8598333, train_loss = 0.4092112, test_acc = 0.8633000, time = 6.3528824\n",
      "epoch = 3, train_acc = 0.8837667, train_loss = 0.3315875, test_acc = 0.8774000, time = 6.2360370\n",
      "epoch = 4, train_acc = 0.8961333, train_loss = 0.2932348, test_acc = 0.8889000, time = 6.3699994\n",
      "epoch = 5, train_acc = 0.9050167, train_loss = 0.2682619, test_acc = 0.8921000, time = 6.2800348\n",
      "epoch = 6, train_acc = 0.9113000, train_loss = 0.2473680, test_acc = 0.9014000, time = 6.1876414\n",
      "epoch = 7, train_acc = 0.9167333, train_loss = 0.2331936, test_acc = 0.9026000, time = 6.3563104\n",
      "epoch = 8, train_acc = 0.9208000, train_loss = 0.2212575, test_acc = 0.9018000, time = 6.2653797\n",
      "epoch = 9, train_acc = 0.9251333, train_loss = 0.2087121, test_acc = 0.9049000, time = 6.2792513\n",
      "epoch = 10, train_acc = 0.9284667, train_loss = 0.1970575, test_acc = 0.9093000, time = 6.1887338\n",
      "epoch = 11, train_acc = 0.9313000, train_loss = 0.1888260, test_acc = 0.9069000, time = 6.2392969\n",
      "epoch = 12, train_acc = 0.9340500, train_loss = 0.1805502, test_acc = 0.9119000, time = 6.2527475\n",
      "epoch = 13, train_acc = 0.9370000, train_loss = 0.1737116, test_acc = 0.9093000, time = 6.2692857\n",
      "epoch = 14, train_acc = 0.9390333, train_loss = 0.1650973, test_acc = 0.9095000, time = 6.2457559\n",
      "epoch = 15, train_acc = 0.9413833, train_loss = 0.1602745, test_acc = 0.9082000, time = 6.2211225\n",
      "epoch = 16, train_acc = 0.9442167, train_loss = 0.1524517, test_acc = 0.9112000, time = 6.3625233\n",
      "epoch = 17, train_acc = 0.9464500, train_loss = 0.1456084, test_acc = 0.9077000, time = 6.2127903\n",
      "epoch = 18, train_acc = 0.9490167, train_loss = 0.1390127, test_acc = 0.9113000, time = 6.1762242\n",
      "epoch = 19, train_acc = 0.9521333, train_loss = 0.1318474, test_acc = 0.9104000, time = 6.1039870\n",
      "epoch = 20, train_acc = 0.9522333, train_loss = 0.1290306, test_acc = 0.9105000, time = 6.1668167\n"
     ]
    }
   ],
   "source": [
    "train_net(train, test, model, epochs, trainer)"
   ]
  },
  {
   "cell_type": "code",
   "execution_count": null,
   "id": "f22e6466",
   "metadata": {},
   "outputs": [],
   "source": []
  }
 ],
 "metadata": {
  "kernelspec": {
   "display_name": "Python 3",
   "language": "python",
   "name": "python3"
  },
  "language_info": {
   "codemirror_mode": {
    "name": "ipython",
    "version": 3
   },
   "file_extension": ".py",
   "mimetype": "text/x-python",
   "name": "python",
   "nbconvert_exporter": "python",
   "pygments_lexer": "ipython3",
   "version": "3.7.3"
  }
 },
 "nbformat": 4,
 "nbformat_minor": 5
}
