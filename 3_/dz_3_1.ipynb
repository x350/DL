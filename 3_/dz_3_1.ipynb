{
 "cells": [
  {
   "cell_type": "code",
   "execution_count": 47,
   "id": "8605add7",
   "metadata": {},
   "outputs": [],
   "source": [
    "import torch\n",
    "from torch import nn\n",
    "import numpy as np\n",
    "import pandas as pd\n",
    "import matplotlib.pyplot as plt\n",
    "import time\n",
    "%matplotlib inline\n",
    "\n",
    "import torchvision as tv\n",
    "from torch.utils.data import TensorDataset, DataLoader\n",
    "\n",
    "import warnings\n",
    "warnings.filterwarnings('ignore')"
   ]
  },
  {
   "cell_type": "markdown",
   "id": "d1713a49",
   "metadata": {},
   "source": [
    "### FashionMNIST."
   ]
  },
  {
   "cell_type": "code",
   "execution_count": 48,
   "id": "386d91c2",
   "metadata": {},
   "outputs": [],
   "source": [
    "BATCH_SIZE = 256"
   ]
  },
  {
   "cell_type": "code",
   "execution_count": 49,
   "id": "78da680b",
   "metadata": {},
   "outputs": [],
   "source": [
    "train_dataset = tv.datasets.FashionMNIST('.', train=True, transform=tv.transforms.ToTensor(), download=True)\n",
    "test_dataset  = tv.datasets.FashionMNIST('.', train=False, transform=tv.transforms.ToTensor(), download=True)\n",
    "train = torch.utils.data.DataLoader(train_dataset, batch_size=BATCH_SIZE)\n",
    "test = torch.utils.data.DataLoader(test_dataset, batch_size=BATCH_SIZE)"
   ]
  },
  {
   "cell_type": "code",
   "execution_count": 50,
   "id": "c3fac324",
   "metadata": {},
   "outputs": [
    {
     "data": {
      "text/plain": [
       "<matplotlib.image.AxesImage at 0x7fd1670d3860>"
      ]
     },
     "execution_count": 50,
     "metadata": {},
     "output_type": "execute_result"
    },
    {
     "data": {
      "image/png": "[encoded data removed]",
      "text/plain": [
       "<Figure size 432x288 with 1 Axes>"
      ]
     },
     "metadata": {
      "needs_background": "light"
     },
     "output_type": "display_data"
    }
   ],
   "source": [
    "plt.imshow(train_dataset[100][0].numpy().reshape(28, 28), cmap='gray')"
   ]
  },
  {
   "cell_type": "code",
   "execution_count": 51,
   "id": "f4a538f9",
   "metadata": {},
   "outputs": [
    {
     "data": {
      "text/plain": [
       "torch.Size([60000, 28, 28])"
      ]
     },
     "execution_count": 51,
     "metadata": {},
     "output_type": "execute_result"
    }
   ],
   "source": [
    "train_dataset.data.shape"
   ]
  },
  {
   "cell_type": "markdown",
   "id": "118ce018",
   "metadata": {},
   "source": [
    "### Сверточные слои и архитектура"
   ]
  },
  {
   "cell_type": "code",
   "execution_count": 52,
   "id": "1949ba2b",
   "metadata": {},
   "outputs": [
    {
     "data": {
      "text/plain": [
       "device(type='cuda')"
      ]
     },
     "execution_count": 52,
     "metadata": {},
     "output_type": "execute_result"
    }
   ],
   "source": [
    "dev = torch.device(\"cuda\") if torch.cuda.is_available() else torch.device(\"cpu\"); dev"
   ]
  },
  {
   "cell_type": "code",
   "execution_count": 53,
   "id": "01cd9276",
   "metadata": {},
   "outputs": [],
   "source": [
    "def evaluate(model, test_iter, dev):    \n",
    "    model.eval()\n",
    "    with torch.no_grad():\n",
    "        acc_sum = 0\n",
    "        count = 0\n",
    "        for X, y in test_iter:\n",
    "            X, y = X.to(dev), y.to(dev)\n",
    "            acc_sum += (model(X).argmax(axis=1) == y).sum().item()\n",
    "            count += y.shape[0]\n",
    "        return acc_sum / count"
   ]
  },
  {
   "cell_type": "code",
   "execution_count": 54,
   "id": "19d773eb",
   "metadata": {},
   "outputs": [],
   "source": [
    "def train_net(train_iter, test_iter, model, epochs, trainer):\n",
    "    dev = torch.device(\"cuda\") if torch.cuda.is_available() else torch.device(\"cpu\")\n",
    "    model = model.to(dev)\n",
    "    \n",
    "    loss = nn.CrossEntropyLoss(reduction='sum')\n",
    "    \n",
    "    for epoch in range(1, epochs + 1):\n",
    "        train_loss_sum, train_acc_sum, count, start = 0.0, 0.0, 0, time.time()\n",
    "        \n",
    "        model.train()\n",
    "        for X, y in train_iter:\n",
    "            trainer.zero_grad()\n",
    "            X, y = X.to(dev), y.to(dev)\n",
    "            predict = model(X)\n",
    "            l = loss(predict, y)\n",
    "            l.backward()\n",
    "            trainer.step()\n",
    "            train_loss_sum += l.item()\n",
    "            train_acc_sum += (predict.argmax(axis=1) == y).sum().item()\n",
    "            count += y.shape[0]\n",
    "                        \n",
    "        train_acc = train_acc_sum / count\n",
    "        train_loss  = train_loss_sum / count\n",
    "        test_acc = evaluate(model, test_iter, dev)\n",
    "        run = time.time() - start\n",
    "        \n",
    "        print(f\"epoch = {epoch}, train_acc = {train_acc:.7f}, train_loss = {train_loss:.7f}, test_acc = {test_acc:.7f}, time = {run:.7f}\")\n",
    "            \n",
    "    "
   ]
  },
  {
   "cell_type": "code",
   "execution_count": 88,
   "id": "3fb1b03c",
   "metadata": {},
   "outputs": [],
   "source": [
    "model = nn.Sequential(\n",
    "    nn.Conv2d(1, 32, kernel_size=2, padding=1),\n",
    "    nn.ReLU(),\n",
    "    nn.MaxPool2d(2, stride=2),\n",
    "    nn.Conv2d(32, 64, kernel_size=2, padding=2),\n",
    "    nn.ReLU(),\n",
    "    nn.MaxPool2d(2, stride=2),\n",
    "    nn.Conv2d(64, 64, kernel_size=3, padding=2),\n",
    "    nn.ReLU(),\n",
    "    nn.MaxPool2d( 2, stride=2),\n",
    "    nn.Conv2d(64, 32, kernel_size=3, padding=2),\n",
    "    nn.ReLU(),\n",
    "    nn.MaxPool2d(2, stride=2),\n",
    "    nn.Flatten(),\n",
    "    nn.Linear(288, 288),\n",
    "    nn.Dropout(0.5),\n",
    "    nn.ReLU(),\n",
    "    nn.Linear(288, 72),\n",
    "    nn.BatchNorm1d(72),\n",
    "    nn.ReLU(),\n",
    "    nn.Linear(72, 10),\n",
    "    \n",
    ")"
   ]
  },
  {
   "cell_type": "code",
   "execution_count": 89,
   "id": "fe6a6199",
   "metadata": {},
   "outputs": [
    {
     "name": "stdout",
     "output_type": "stream",
     "text": [
      "torch.Size([1, 1, 28, 28])\n",
      "Layer Conv2d(1, 32, kernel_size=(2, 2), stride=(1, 1), padding=(1, 1)). X shape: torch.Size([1, 32, 29, 29])\n",
      "Layer ReLU(). X shape: torch.Size([1, 32, 29, 29])\n",
      "Layer MaxPool2d(kernel_size=2, stride=2, padding=0, dilation=1, ceil_mode=False). X shape: torch.Size([1, 32, 14, 14])\n",
      "Layer Conv2d(32, 64, kernel_size=(2, 2), stride=(1, 1), padding=(2, 2)). X shape: torch.Size([1, 64, 17, 17])\n",
      "Layer ReLU(). X shape: torch.Size([1, 64, 17, 17])\n",
      "Layer MaxPool2d(kernel_size=2, stride=2, padding=0, dilation=1, ceil_mode=False). X shape: torch.Size([1, 64, 8, 8])\n",
      "Layer Conv2d(64, 64, kernel_size=(3, 3), stride=(1, 1), padding=(2, 2)). X shape: torch.Size([1, 64, 10, 10])\n",
      "Layer ReLU(). X shape: torch.Size([1, 64, 10, 10])\n",
      "Layer MaxPool2d(kernel_size=2, stride=2, padding=0, dilation=1, ceil_mode=False). X shape: torch.Size([1, 64, 5, 5])\n",
      "Layer Conv2d(64, 32, kernel_size=(3, 3), stride=(1, 1), padding=(2, 2)). X shape: torch.Size([1, 32, 7, 7])\n",
      "Layer ReLU(). X shape: torch.Size([1, 32, 7, 7])\n",
      "Layer MaxPool2d(kernel_size=2, stride=2, padding=0, dilation=1, ceil_mode=False). X shape: torch.Size([1, 32, 3, 3])\n",
      "Layer Flatten(). X shape: torch.Size([1, 288])\n",
      "Layer Linear(in_features=288, out_features=288, bias=True). X shape: torch.Size([1, 288])\n",
      "Layer Dropout(p=0.5, inplace=False). X shape: torch.Size([1, 288])\n",
      "Layer ReLU(). X shape: torch.Size([1, 288])\n",
      "Layer Linear(in_features=288, out_features=72, bias=True). X shape: torch.Size([1, 72])\n",
      "-------- Expected more than 1 value per channel when training, got input size torch.Size([1, 72])\n",
      "Layer BatchNorm1d(72, eps=1e-05, momentum=0.1, affine=True, track_running_stats=True). X shape: torch.Size([1, 72])\n",
      "Layer ReLU(). X shape: torch.Size([1, 72])\n",
      "Layer Linear(in_features=72, out_features=10, bias=True). X shape: torch.Size([1, 10])\n"
     ]
    }
   ],
   "source": [
    "def test_shape(model, X):\n",
    "    X = X.reshape(1, 1, 28, 28)\n",
    "    print(X.shape)\n",
    "    for l in model:\n",
    "        try:\n",
    "            X = l(X)\n",
    "        except Exception as ex: \n",
    "            print('--------', ex) # при проверке shape, BatchNorm выдает ошибку, но в сети работает\n",
    "        print(\"Layer {}. X shape: {}\".format(l, X.shape))\n",
    "\n",
    "test_shape(model, train_dataset[0][0])"
   ]
  },
  {
   "cell_type": "code",
   "execution_count": 90,
   "id": "536da669",
   "metadata": {},
   "outputs": [
    {
     "data": {
      "text/plain": [
       "Sequential(\n",
       "  (0): Conv2d(1, 32, kernel_size=(2, 2), stride=(1, 1), padding=(1, 1))\n",
       "  (1): ReLU()\n",
       "  (2): MaxPool2d(kernel_size=2, stride=2, padding=0, dilation=1, ceil_mode=False)\n",
       "  (3): Conv2d(32, 64, kernel_size=(2, 2), stride=(1, 1), padding=(2, 2))\n",
       "  (4): ReLU()\n",
       "  (5): MaxPool2d(kernel_size=2, stride=2, padding=0, dilation=1, ceil_mode=False)\n",
       "  (6): Conv2d(64, 64, kernel_size=(3, 3), stride=(1, 1), padding=(2, 2))\n",
       "  (7): ReLU()\n",
       "  (8): MaxPool2d(kernel_size=2, stride=2, padding=0, dilation=1, ceil_mode=False)\n",
       "  (9): Conv2d(64, 32, kernel_size=(3, 3), stride=(1, 1), padding=(2, 2))\n",
       "  (10): ReLU()\n",
       "  (11): MaxPool2d(kernel_size=2, stride=2, padding=0, dilation=1, ceil_mode=False)\n",
       "  (12): Flatten()\n",
       "  (13): Linear(in_features=288, out_features=288, bias=True)\n",
       "  (14): Dropout(p=0.5, inplace=False)\n",
       "  (15): ReLU()\n",
       "  (16): Linear(in_features=288, out_features=72, bias=True)\n",
       "  (17): BatchNorm1d(72, eps=1e-05, momentum=0.1, affine=True, track_running_stats=True)\n",
       "  (18): ReLU()\n",
       "  (19): Linear(in_features=72, out_features=10, bias=True)\n",
       ")"
      ]
     },
     "execution_count": 90,
     "metadata": {},
     "output_type": "execute_result"
    }
   ],
   "source": [
    "dev = torch.device(\"cuda\") if torch.cuda.is_available() else torch.device(\"cpu\"); dev\n",
    "model.to(dev)"
   ]
  },
  {
   "cell_type": "code",
   "execution_count": 91,
   "id": "f9c5011d",
   "metadata": {},
   "outputs": [],
   "source": [
    "epochs = 20\n",
    "learing_rate = 0.0003\n",
    "trainer = torch.optim.AdamW(model.parameters(), lr=learing_rate)"
   ]
  },
  {
   "cell_type": "code",
   "execution_count": 92,
   "id": "27cbd667",
   "metadata": {},
   "outputs": [
    {
     "name": "stdout",
     "output_type": "stream",
     "text": [
      "epoch = 1, train_acc = 0.6895167, train_loss = 1.0424221, test_acc = 0.8153000, time = 6.2749248\n",
      "epoch = 2, train_acc = 0.8457333, train_loss = 0.4840154, test_acc = 0.8557000, time = 6.2149146\n",
      "epoch = 3, train_acc = 0.8732833, train_loss = 0.3725885, test_acc = 0.8799000, time = 6.2625146\n",
      "epoch = 4, train_acc = 0.8890833, train_loss = 0.3213399, test_acc = 0.8904000, time = 6.3999116\n",
      "epoch = 5, train_acc = 0.8976333, train_loss = 0.2896515, test_acc = 0.8940000, time = 6.3853624\n",
      "epoch = 6, train_acc = 0.9052167, train_loss = 0.2681109, test_acc = 0.8969000, time = 6.4377809\n",
      "epoch = 7, train_acc = 0.9116500, train_loss = 0.2498018, test_acc = 0.9082000, time = 6.4530864\n",
      "epoch = 8, train_acc = 0.9166500, train_loss = 0.2360191, test_acc = 0.9053000, time = 6.3488133\n",
      "epoch = 9, train_acc = 0.9198833, train_loss = 0.2254239, test_acc = 0.9088000, time = 6.3597789\n",
      "epoch = 10, train_acc = 0.9240833, train_loss = 0.2145508, test_acc = 0.9076000, time = 6.4247615\n",
      "epoch = 11, train_acc = 0.9273333, train_loss = 0.2050227, test_acc = 0.9160000, time = 6.2880087\n",
      "epoch = 12, train_acc = 0.9292833, train_loss = 0.1985629, test_acc = 0.9094000, time = 6.4092100\n",
      "epoch = 13, train_acc = 0.9343333, train_loss = 0.1849418, test_acc = 0.9129000, time = 6.2959280\n",
      "epoch = 14, train_acc = 0.9367333, train_loss = 0.1784230, test_acc = 0.9087000, time = 6.2196271\n",
      "epoch = 15, train_acc = 0.9396667, train_loss = 0.1710586, test_acc = 0.9125000, time = 6.1994331\n",
      "epoch = 16, train_acc = 0.9400333, train_loss = 0.1658103, test_acc = 0.9155000, time = 6.1455083\n",
      "epoch = 17, train_acc = 0.9433333, train_loss = 0.1612006, test_acc = 0.9154000, time = 5.9866862\n",
      "epoch = 18, train_acc = 0.9456167, train_loss = 0.1524187, test_acc = 0.9152000, time = 6.1951363\n",
      "epoch = 19, train_acc = 0.9472833, train_loss = 0.1477410, test_acc = 0.9143000, time = 6.4147699\n",
      "epoch = 20, train_acc = 0.9484333, train_loss = 0.1424513, test_acc = 0.9168000, time = 6.1581247\n"
     ]
    }
   ],
   "source": [
    "train_net(train, test, model, epochs, trainer)"
   ]
  },
  {
   "cell_type": "code",
   "execution_count": null,
   "id": "3f4b89f1",
   "metadata": {},
   "outputs": [],
   "source": []
  }
 ],
 "metadata": {
  "kernelspec": {
   "display_name": "Python 3",
   "language": "python",
   "name": "python3"
  },
  "language_info": {
   "codemirror_mode": {
    "name": "ipython",
    "version": 3
   },
   "file_extension": ".py",
   "mimetype": "text/x-python",
   "name": "python",
   "nbconvert_exporter": "python",
   "pygments_lexer": "ipython3",
   "version": "3.7.3"
  }
 },
 "nbformat": 4,
 "nbformat_minor": 5
}
