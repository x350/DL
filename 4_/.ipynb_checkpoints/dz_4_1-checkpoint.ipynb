{
 "cells": [
  {
   "cell_type": "code",
   "execution_count": 1,
   "id": "18cde30c",
   "metadata": {},
   "outputs": [],
   "source": [
    "import torch\n",
    "from torch import nn\n",
    "import numpy as np\n",
    "import pandas as pd\n",
    "import matplotlib.pyplot as plt\n",
    "import time\n",
    "%matplotlib inline\n",
    "\n",
    "import torchvision as tv\n",
    "from torch.utils.data import TensorDataset, DataLoader\n",
    "\n",
    "import warnings\n",
    "warnings.filterwarnings('ignore')"
   ]
  },
  {
   "cell_type": "code",
   "execution_count": 2,
   "id": "706dce60",
   "metadata": {},
   "outputs": [],
   "source": [
    "BATCH_SIZE = 256"
   ]
  },
  {
   "cell_type": "code",
   "execution_count": 3,
   "id": "2d77aa17",
   "metadata": {},
   "outputs": [
    {
     "name": "stderr",
     "output_type": "stream",
     "text": [
      "\r",
      "0it [00:00, ?it/s]"
     ]
    },
    {
     "name": "stdout",
     "output_type": "stream",
     "text": [
      "Downloading http://fashion-mnist.s3-website.eu-central-1.amazonaws.com/train-images-idx3-ubyte.gz to ./FashionMNIST/raw/train-images-idx3-ubyte.gz\n"
     ]
    },
    {
     "name": "stderr",
     "output_type": "stream",
     "text": [
      " 99%|█████████████████████████▊| 26271744/26421880 [00:11<00:00, 2578138.20it/s]"
     ]
    },
    {
     "name": "stdout",
     "output_type": "stream",
     "text": [
      "Extracting ./FashionMNIST/raw/train-images-idx3-ubyte.gz to ./FashionMNIST/raw\n"
     ]
    },
    {
     "name": "stderr",
     "output_type": "stream",
     "text": [
      "\n",
      "0it [00:00, ?it/s]\u001b[A\n",
      "  0%|                                                 | 0/29515 [00:00<?, ?it/s]\u001b[A"
     ]
    },
    {
     "name": "stdout",
     "output_type": "stream",
     "text": [
      "Downloading http://fashion-mnist.s3-website.eu-central-1.amazonaws.com/train-labels-idx1-ubyte.gz to ./FashionMNIST/raw/train-labels-idx1-ubyte.gz\n"
     ]
    },
    {
     "name": "stderr",
     "output_type": "stream",
     "text": [
      "32768it [00:00, 160333.82it/s]                                                  \n",
      "\n",
      "0it [00:00, ?it/s]\u001b[A\n",
      "  0%|                                               | 0/4422102 [00:00<?, ?it/s]\u001b[A"
     ]
    },
    {
     "name": "stdout",
     "output_type": "stream",
     "text": [
      "Extracting ./FashionMNIST/raw/train-labels-idx1-ubyte.gz to ./FashionMNIST/raw\n",
      "Downloading http://fashion-mnist.s3-website.eu-central-1.amazonaws.com/t10k-images-idx3-ubyte.gz to ./FashionMNIST/raw/t10k-images-idx3-ubyte.gz\n"
     ]
    },
    {
     "name": "stderr",
     "output_type": "stream",
     "text": [
      "\n",
      "  2%|▋                              | 98304/4422102 [00:00<00:05, 778564.50it/s]\u001b[A\n",
      "  6%|█▋                            | 245760/4422102 [00:00<00:04, 906917.63it/s]\u001b[A\n",
      "  9%|██▌                          | 393216/4422102 [00:00<00:04, 1006902.43it/s]\u001b[A\n",
      " 12%|███▌                         | 540672/4422102 [00:00<00:03, 1099721.99it/s]\u001b[A\n",
      " 16%|████▊                        | 729088/4422102 [00:00<00:02, 1253832.04it/s]\u001b[A\n",
      " 21%|██████▏                      | 942080/4422102 [00:00<00:02, 1427818.48it/s]\u001b[A\n",
      " 25%|██████▉                     | 1097728/4422102 [00:00<00:02, 1435179.97it/s]\u001b[A\n",
      " 30%|████████▎                   | 1318912/4422102 [00:00<00:01, 1596566.15it/s]\u001b[A\n",
      " 35%|█████████▊                  | 1556480/4422102 [00:01<00:01, 1768059.62it/s]\u001b[A\n",
      " 40%|███████████▎                | 1777664/4422102 [00:01<00:01, 1794039.33it/s]\u001b[A\n",
      " 46%|████████████▊               | 2023424/4422102 [00:01<00:01, 1952126.32it/s]\u001b[A\n",
      " 51%|██████████████▎             | 2252800/4422102 [00:01<00:01, 1920955.62it/s]\u001b[A\n",
      " 57%|███████████████▉            | 2523136/4422102 [00:01<00:00, 2101255.82it/s]\u001b[A\n",
      " 63%|█████████████████▋          | 2801664/4422102 [00:01<00:00, 2257102.32it/s]\u001b[A\n",
      " 69%|███████████████████▏        | 3039232/4422102 [00:01<00:00, 2078570.84it/s]\u001b[A\n",
      " 75%|████████████████████▉       | 3309568/4422102 [00:01<00:00, 2113148.99it/s]\u001b[A\n",
      " 80%|██████████████████████▎     | 3530752/4422102 [00:01<00:00, 2085243.36it/s]\u001b[A\n",
      " 87%|████████████████████████▎   | 3833856/4422102 [00:02<00:00, 2192122.97it/s]\u001b[A\n",
      "4423680it [00:02, 1912747.67it/s]                                               \u001b[A\n",
      "\n",
      "0it [00:00, ?it/s]\u001b[A\n",
      "8192it [00:00, 63023.19it/s]                                                    \u001b[A\n"
     ]
    },
    {
     "name": "stdout",
     "output_type": "stream",
     "text": [
      "Extracting ./FashionMNIST/raw/t10k-images-idx3-ubyte.gz to ./FashionMNIST/raw\n",
      "Downloading http://fashion-mnist.s3-website.eu-central-1.amazonaws.com/t10k-labels-idx1-ubyte.gz to ./FashionMNIST/raw/t10k-labels-idx1-ubyte.gz\n",
      "Extracting ./FashionMNIST/raw/t10k-labels-idx1-ubyte.gz to ./FashionMNIST/raw\n",
      "Processing...\n",
      "Done!\n"
     ]
    },
    {
     "name": "stderr",
     "output_type": "stream",
     "text": [
      "\r",
      "26427392it [00:30, 2578138.20it/s]                                              "
     ]
    }
   ],
   "source": [
    "train_dataset = tv.datasets.FashionMNIST('.', train=True, transform=tv.transforms.ToTensor(), download=True)\n",
    "test_dataset  = tv.datasets.FashionMNIST('.', train=False, transform=tv.transforms.ToTensor(), download=True)\n",
    "train = torch.utils.data.DataLoader(train_dataset, batch_size=BATCH_SIZE)\n",
    "test = torch.utils.data.DataLoader(test_dataset, batch_size=BATCH_SIZE)"
   ]
  },
  {
   "cell_type": "code",
   "execution_count": 7,
   "id": "4d33eedf",
   "metadata": {},
   "outputs": [
    {
     "data": {
      "text/plain": [
       "<matplotlib.image.AxesImage at 0x7f03b0451e10>"
      ]
     },
     "execution_count": 7,
     "metadata": {},
     "output_type": "execute_result"
    },
    {
     "data": {
      "image/png": "[encoded data removed]",
      "text/plain": [
       "<Figure size 432x288 with 1 Axes>"
      ]
     },
     "metadata": {
      "needs_background": "light"
     },
     "output_type": "display_data"
    }
   ],
   "source": [
    "plt.imshow(train_dataset[10][0].numpy().reshape(28, 28), cmap='gray')"
   ]
  },
  {
   "cell_type": "code",
   "execution_count": 8,
   "id": "0a7c2c1d",
   "metadata": {},
   "outputs": [
    {
     "data": {
      "text/plain": [
       "torch.Size([60000, 28, 28])"
      ]
     },
     "execution_count": 8,
     "metadata": {},
     "output_type": "execute_result"
    }
   ],
   "source": [
    "train_dataset.data.shape"
   ]
  },
  {
   "cell_type": "code",
   "execution_count": 9,
   "id": "f59c9ea1",
   "metadata": {},
   "outputs": [
    {
     "data": {
      "text/plain": [
       "device(type='cuda')"
      ]
     },
     "execution_count": 9,
     "metadata": {},
     "output_type": "execute_result"
    }
   ],
   "source": [
    "dev = torch.device(\"cuda\") if torch.cuda.is_available() else torch.device(\"cpu\"); dev"
   ]
  },
  {
   "cell_type": "code",
   "execution_count": 11,
   "id": "5dd5fa09",
   "metadata": {},
   "outputs": [],
   "source": [
    "def evaluate(model, test_iter, dev):    \n",
    "    model.eval()\n",
    "    with torch.no_grad():\n",
    "        acc_sum = 0\n",
    "        count = 0\n",
    "        for X, y in test_iter:\n",
    "            X, y = X.to(dev), y.to(dev)\n",
    "            acc_sum += (model(X).argmax(axis=1) == y).sum().item()\n",
    "            count += y.shape[0]\n",
    "        return acc_sum / count\n",
    "    \n",
    "def train_net(train_iter, test_iter, model, epochs, trainer):\n",
    "    dev = torch.device(\"cuda\") if torch.cuda.is_available() else torch.device(\"cpu\")\n",
    "    model = model.to(dev)\n",
    "    \n",
    "    loss = nn.CrossEntropyLoss(reduction='sum')\n",
    "    \n",
    "    for epoch in range(1, epochs + 1):\n",
    "        train_loss_sum, train_acc_sum, count, start = 0.0, 0.0, 0, time.time()\n",
    "        \n",
    "        model.train()\n",
    "        for X, y in train_iter:\n",
    "            trainer.zero_grad()\n",
    "            X, y = X.to(dev), y.to(dev)\n",
    "            predict = model(X)\n",
    "            l = loss(predict, y)\n",
    "            l.backward()\n",
    "            trainer.step()\n",
    "            train_loss_sum += l.item()\n",
    "            train_acc_sum += (predict.argmax(axis=1) == y).sum().item()\n",
    "            count += y.shape[0]\n",
    "                        \n",
    "        train_acc = train_acc_sum / count\n",
    "        train_loss  = train_loss_sum / count\n",
    "        test_acc = evaluate(model, test_iter, dev)\n",
    "        run = time.time() - start\n",
    "        \n",
    "        print(f\"epoch = {epoch}, train_acc = {train_acc:.7f}, train_loss = {train_loss:.7f}, test_acc = {test_acc:.7f}, time = {run:.7f}\")\n",
    "            "
   ]
  },
  {
   "cell_type": "code",
   "execution_count": null,
   "id": "b90e5d74",
   "metadata": {},
   "outputs": [],
   "source": []
  }
 ],
 "metadata": {
  "kernelspec": {
   "display_name": "Python 3",
   "language": "python",
   "name": "python3"
  },
  "language_info": {
   "codemirror_mode": {
    "name": "ipython",
    "version": 3
   },
   "file_extension": ".py",
   "mimetype": "text/x-python",
   "name": "python",
   "nbconvert_exporter": "python",
   "pygments_lexer": "ipython3",
   "version": "3.7.3"
  }
 },
 "nbformat": 4,
 "nbformat_minor": 5
}
