{
 "cells": [
  {
   "cell_type": "markdown",
   "id": "3fbd6464",
   "metadata": {},
   "source": [
    "## Реализовать обучение линейной регрессии для задачи boston house prices с использованием torch’а"
   ]
  },
  {
   "cell_type": "code",
   "execution_count": 232,
   "id": "d376ee88",
   "metadata": {},
   "outputs": [],
   "source": [
    "import torch\n",
    "import numpy as np\n",
    "import pandas as pd\n",
    "import matplotlib.pyplot as plt\n",
    "%matplotlib inline\n",
    "\n",
    "import torchvision\n",
    "from torch.utils.data import TensorDataset, DataLoader\n",
    "\n",
    "import warnings\n",
    "warnings.filterwarnings('ignore')\n"
   ]
  },
  {
   "cell_type": "code",
   "execution_count": 233,
   "id": "f4cc712d",
   "metadata": {},
   "outputs": [],
   "source": [
    "# Загружаем данные\n",
    "names = ['CRIM', 'ZN', 'INDUS', 'CHAS', 'NOX', 'RM', 'AGE', 'DIS', 'RAD', 'TAX', 'PTRATIO',\n",
    "'B', 'LSTAT', 'MEDV']\n",
    "\n",
    "data = pd.read_csv('housing.csv', delim_whitespace=True, names=names)"
   ]
  },
  {
   "cell_type": "code",
   "execution_count": 234,
   "id": "0089c31a",
   "metadata": {},
   "outputs": [
    {
     "data": {
      "text/html": [
       "<div>\n",
       "<style scoped>\n",
       "    .dataframe tbody tr th:only-of-type {\n",
       "        vertical-align: middle;\n",
       "    }\n",
       "\n",
       "    .dataframe tbody tr th {\n",
       "        vertical-align: top;\n",
       "    }\n",
       "\n",
       "    .dataframe thead th {\n",
       "        text-align: right;\n",
       "    }\n",
       "</style>\n",
       "<table border=\"1\" class=\"dataframe\">\n",
       "  <thead>\n",
       "    <tr style=\"text-align: right;\">\n",
       "      <th></th>\n",
       "      <th>CRIM</th>\n",
       "      <th>ZN</th>\n",
       "      <th>INDUS</th>\n",
       "      <th>CHAS</th>\n",
       "      <th>NOX</th>\n",
       "      <th>RM</th>\n",
       "      <th>AGE</th>\n",
       "      <th>DIS</th>\n",
       "      <th>RAD</th>\n",
       "      <th>TAX</th>\n",
       "      <th>PTRATIO</th>\n",
       "      <th>B</th>\n",
       "      <th>LSTAT</th>\n",
       "      <th>MEDV</th>\n",
       "    </tr>\n",
       "  </thead>\n",
       "  <tbody>\n",
       "    <tr>\n",
       "      <th>0</th>\n",
       "      <td>0.00632</td>\n",
       "      <td>18.0</td>\n",
       "      <td>2.31</td>\n",
       "      <td>0</td>\n",
       "      <td>0.538</td>\n",
       "      <td>6.575</td>\n",
       "      <td>65.2</td>\n",
       "      <td>4.0900</td>\n",
       "      <td>1</td>\n",
       "      <td>296.0</td>\n",
       "      <td>15.3</td>\n",
       "      <td>396.90</td>\n",
       "      <td>4.98</td>\n",
       "      <td>24.0</td>\n",
       "    </tr>\n",
       "    <tr>\n",
       "      <th>1</th>\n",
       "      <td>0.02731</td>\n",
       "      <td>0.0</td>\n",
       "      <td>7.07</td>\n",
       "      <td>0</td>\n",
       "      <td>0.469</td>\n",
       "      <td>6.421</td>\n",
       "      <td>78.9</td>\n",
       "      <td>4.9671</td>\n",
       "      <td>2</td>\n",
       "      <td>242.0</td>\n",
       "      <td>17.8</td>\n",
       "      <td>396.90</td>\n",
       "      <td>9.14</td>\n",
       "      <td>21.6</td>\n",
       "    </tr>\n",
       "    <tr>\n",
       "      <th>2</th>\n",
       "      <td>0.02729</td>\n",
       "      <td>0.0</td>\n",
       "      <td>7.07</td>\n",
       "      <td>0</td>\n",
       "      <td>0.469</td>\n",
       "      <td>7.185</td>\n",
       "      <td>61.1</td>\n",
       "      <td>4.9671</td>\n",
       "      <td>2</td>\n",
       "      <td>242.0</td>\n",
       "      <td>17.8</td>\n",
       "      <td>392.83</td>\n",
       "      <td>4.03</td>\n",
       "      <td>34.7</td>\n",
       "    </tr>\n",
       "    <tr>\n",
       "      <th>3</th>\n",
       "      <td>0.03237</td>\n",
       "      <td>0.0</td>\n",
       "      <td>2.18</td>\n",
       "      <td>0</td>\n",
       "      <td>0.458</td>\n",
       "      <td>6.998</td>\n",
       "      <td>45.8</td>\n",
       "      <td>6.0622</td>\n",
       "      <td>3</td>\n",
       "      <td>222.0</td>\n",
       "      <td>18.7</td>\n",
       "      <td>394.63</td>\n",
       "      <td>2.94</td>\n",
       "      <td>33.4</td>\n",
       "    </tr>\n",
       "  </tbody>\n",
       "</table>\n",
       "</div>"
      ],
      "text/plain": [
       "      CRIM    ZN  INDUS  CHAS    NOX     RM   AGE     DIS  RAD    TAX  \\\n",
       "0  0.00632  18.0   2.31     0  0.538  6.575  65.2  4.0900    1  296.0   \n",
       "1  0.02731   0.0   7.07     0  0.469  6.421  78.9  4.9671    2  242.0   \n",
       "2  0.02729   0.0   7.07     0  0.469  7.185  61.1  4.9671    2  242.0   \n",
       "3  0.03237   0.0   2.18     0  0.458  6.998  45.8  6.0622    3  222.0   \n",
       "\n",
       "   PTRATIO       B  LSTAT  MEDV  \n",
       "0     15.3  396.90   4.98  24.0  \n",
       "1     17.8  396.90   9.14  21.6  \n",
       "2     17.8  392.83   4.03  34.7  \n",
       "3     18.7  394.63   2.94  33.4  "
      ]
     },
     "execution_count": 234,
     "metadata": {},
     "output_type": "execute_result"
    }
   ],
   "source": [
    "# Знакомимся с данными, смотрим статистики\n",
    "data.head(4)"
   ]
  },
  {
   "cell_type": "code",
   "execution_count": 235,
   "id": "4991b253",
   "metadata": {},
   "outputs": [
    {
     "name": "stdout",
     "output_type": "stream",
     "text": [
      "<class 'pandas.core.frame.DataFrame'>\n",
      "RangeIndex: 506 entries, 0 to 505\n",
      "Data columns (total 14 columns):\n",
      " #   Column   Non-Null Count  Dtype  \n",
      "---  ------   --------------  -----  \n",
      " 0   CRIM     506 non-null    float64\n",
      " 1   ZN       506 non-null    float64\n",
      " 2   INDUS    506 non-null    float64\n",
      " 3   CHAS     506 non-null    int64  \n",
      " 4   NOX      506 non-null    float64\n",
      " 5   RM       506 non-null    float64\n",
      " 6   AGE      506 non-null    float64\n",
      " 7   DIS      506 non-null    float64\n",
      " 8   RAD      506 non-null    int64  \n",
      " 9   TAX      506 non-null    float64\n",
      " 10  PTRATIO  506 non-null    float64\n",
      " 11  B        506 non-null    float64\n",
      " 12  LSTAT    506 non-null    float64\n",
      " 13  MEDV     506 non-null    float64\n",
      "dtypes: float64(12), int64(2)\n",
      "memory usage: 55.5 KB\n"
     ]
    }
   ],
   "source": [
    "data.info()"
   ]
  },
  {
   "cell_type": "code",
   "execution_count": 236,
   "id": "ea8fd4bb",
   "metadata": {},
   "outputs": [
    {
     "data": {
      "text/html": [
       "<div>\n",
       "<style scoped>\n",
       "    .dataframe tbody tr th:only-of-type {\n",
       "        vertical-align: middle;\n",
       "    }\n",
       "\n",
       "    .dataframe tbody tr th {\n",
       "        vertical-align: top;\n",
       "    }\n",
       "\n",
       "    .dataframe thead th {\n",
       "        text-align: right;\n",
       "    }\n",
       "</style>\n",
       "<table border=\"1\" class=\"dataframe\">\n",
       "  <thead>\n",
       "    <tr style=\"text-align: right;\">\n",
       "      <th></th>\n",
       "      <th>count</th>\n",
       "      <th>mean</th>\n",
       "      <th>std</th>\n",
       "      <th>min</th>\n",
       "      <th>25%</th>\n",
       "      <th>50%</th>\n",
       "      <th>75%</th>\n",
       "      <th>max</th>\n",
       "    </tr>\n",
       "  </thead>\n",
       "  <tbody>\n",
       "    <tr>\n",
       "      <th>CRIM</th>\n",
       "      <td>506.0</td>\n",
       "      <td>3.613524</td>\n",
       "      <td>8.601545</td>\n",
       "      <td>0.00632</td>\n",
       "      <td>0.082045</td>\n",
       "      <td>0.25651</td>\n",
       "      <td>3.677083</td>\n",
       "      <td>88.9762</td>\n",
       "    </tr>\n",
       "    <tr>\n",
       "      <th>ZN</th>\n",
       "      <td>506.0</td>\n",
       "      <td>11.363636</td>\n",
       "      <td>23.322453</td>\n",
       "      <td>0.00000</td>\n",
       "      <td>0.000000</td>\n",
       "      <td>0.00000</td>\n",
       "      <td>12.500000</td>\n",
       "      <td>100.0000</td>\n",
       "    </tr>\n",
       "    <tr>\n",
       "      <th>INDUS</th>\n",
       "      <td>506.0</td>\n",
       "      <td>11.136779</td>\n",
       "      <td>6.860353</td>\n",
       "      <td>0.46000</td>\n",
       "      <td>5.190000</td>\n",
       "      <td>9.69000</td>\n",
       "      <td>18.100000</td>\n",
       "      <td>27.7400</td>\n",
       "    </tr>\n",
       "    <tr>\n",
       "      <th>CHAS</th>\n",
       "      <td>506.0</td>\n",
       "      <td>0.069170</td>\n",
       "      <td>0.253994</td>\n",
       "      <td>0.00000</td>\n",
       "      <td>0.000000</td>\n",
       "      <td>0.00000</td>\n",
       "      <td>0.000000</td>\n",
       "      <td>1.0000</td>\n",
       "    </tr>\n",
       "    <tr>\n",
       "      <th>NOX</th>\n",
       "      <td>506.0</td>\n",
       "      <td>0.554695</td>\n",
       "      <td>0.115878</td>\n",
       "      <td>0.38500</td>\n",
       "      <td>0.449000</td>\n",
       "      <td>0.53800</td>\n",
       "      <td>0.624000</td>\n",
       "      <td>0.8710</td>\n",
       "    </tr>\n",
       "    <tr>\n",
       "      <th>RM</th>\n",
       "      <td>506.0</td>\n",
       "      <td>6.284634</td>\n",
       "      <td>0.702617</td>\n",
       "      <td>3.56100</td>\n",
       "      <td>5.885500</td>\n",
       "      <td>6.20850</td>\n",
       "      <td>6.623500</td>\n",
       "      <td>8.7800</td>\n",
       "    </tr>\n",
       "    <tr>\n",
       "      <th>AGE</th>\n",
       "      <td>506.0</td>\n",
       "      <td>68.574901</td>\n",
       "      <td>28.148861</td>\n",
       "      <td>2.90000</td>\n",
       "      <td>45.025000</td>\n",
       "      <td>77.50000</td>\n",
       "      <td>94.075000</td>\n",
       "      <td>100.0000</td>\n",
       "    </tr>\n",
       "    <tr>\n",
       "      <th>DIS</th>\n",
       "      <td>506.0</td>\n",
       "      <td>3.795043</td>\n",
       "      <td>2.105710</td>\n",
       "      <td>1.12960</td>\n",
       "      <td>2.100175</td>\n",
       "      <td>3.20745</td>\n",
       "      <td>5.188425</td>\n",
       "      <td>12.1265</td>\n",
       "    </tr>\n",
       "    <tr>\n",
       "      <th>RAD</th>\n",
       "      <td>506.0</td>\n",
       "      <td>9.549407</td>\n",
       "      <td>8.707259</td>\n",
       "      <td>1.00000</td>\n",
       "      <td>4.000000</td>\n",
       "      <td>5.00000</td>\n",
       "      <td>24.000000</td>\n",
       "      <td>24.0000</td>\n",
       "    </tr>\n",
       "    <tr>\n",
       "      <th>TAX</th>\n",
       "      <td>506.0</td>\n",
       "      <td>408.237154</td>\n",
       "      <td>168.537116</td>\n",
       "      <td>187.00000</td>\n",
       "      <td>279.000000</td>\n",
       "      <td>330.00000</td>\n",
       "      <td>666.000000</td>\n",
       "      <td>711.0000</td>\n",
       "    </tr>\n",
       "    <tr>\n",
       "      <th>PTRATIO</th>\n",
       "      <td>506.0</td>\n",
       "      <td>18.455534</td>\n",
       "      <td>2.164946</td>\n",
       "      <td>12.60000</td>\n",
       "      <td>17.400000</td>\n",
       "      <td>19.05000</td>\n",
       "      <td>20.200000</td>\n",
       "      <td>22.0000</td>\n",
       "    </tr>\n",
       "    <tr>\n",
       "      <th>B</th>\n",
       "      <td>506.0</td>\n",
       "      <td>356.674032</td>\n",
       "      <td>91.294864</td>\n",
       "      <td>0.32000</td>\n",
       "      <td>375.377500</td>\n",
       "      <td>391.44000</td>\n",
       "      <td>396.225000</td>\n",
       "      <td>396.9000</td>\n",
       "    </tr>\n",
       "    <tr>\n",
       "      <th>LSTAT</th>\n",
       "      <td>506.0</td>\n",
       "      <td>12.653063</td>\n",
       "      <td>7.141062</td>\n",
       "      <td>1.73000</td>\n",
       "      <td>6.950000</td>\n",
       "      <td>11.36000</td>\n",
       "      <td>16.955000</td>\n",
       "      <td>37.9700</td>\n",
       "    </tr>\n",
       "    <tr>\n",
       "      <th>MEDV</th>\n",
       "      <td>506.0</td>\n",
       "      <td>22.532806</td>\n",
       "      <td>9.197104</td>\n",
       "      <td>5.00000</td>\n",
       "      <td>17.025000</td>\n",
       "      <td>21.20000</td>\n",
       "      <td>25.000000</td>\n",
       "      <td>50.0000</td>\n",
       "    </tr>\n",
       "  </tbody>\n",
       "</table>\n",
       "</div>"
      ],
      "text/plain": [
       "         count        mean         std        min         25%        50%  \\\n",
       "CRIM     506.0    3.613524    8.601545    0.00632    0.082045    0.25651   \n",
       "ZN       506.0   11.363636   23.322453    0.00000    0.000000    0.00000   \n",
       "INDUS    506.0   11.136779    6.860353    0.46000    5.190000    9.69000   \n",
       "CHAS     506.0    0.069170    0.253994    0.00000    0.000000    0.00000   \n",
       "NOX      506.0    0.554695    0.115878    0.38500    0.449000    0.53800   \n",
       "RM       506.0    6.284634    0.702617    3.56100    5.885500    6.20850   \n",
       "AGE      506.0   68.574901   28.148861    2.90000   45.025000   77.50000   \n",
       "DIS      506.0    3.795043    2.105710    1.12960    2.100175    3.20745   \n",
       "RAD      506.0    9.549407    8.707259    1.00000    4.000000    5.00000   \n",
       "TAX      506.0  408.237154  168.537116  187.00000  279.000000  330.00000   \n",
       "PTRATIO  506.0   18.455534    2.164946   12.60000   17.400000   19.05000   \n",
       "B        506.0  356.674032   91.294864    0.32000  375.377500  391.44000   \n",
       "LSTAT    506.0   12.653063    7.141062    1.73000    6.950000   11.36000   \n",
       "MEDV     506.0   22.532806    9.197104    5.00000   17.025000   21.20000   \n",
       "\n",
       "                75%       max  \n",
       "CRIM       3.677083   88.9762  \n",
       "ZN        12.500000  100.0000  \n",
       "INDUS     18.100000   27.7400  \n",
       "CHAS       0.000000    1.0000  \n",
       "NOX        0.624000    0.8710  \n",
       "RM         6.623500    8.7800  \n",
       "AGE       94.075000  100.0000  \n",
       "DIS        5.188425   12.1265  \n",
       "RAD       24.000000   24.0000  \n",
       "TAX      666.000000  711.0000  \n",
       "PTRATIO   20.200000   22.0000  \n",
       "B        396.225000  396.9000  \n",
       "LSTAT     16.955000   37.9700  \n",
       "MEDV      25.000000   50.0000  "
      ]
     },
     "execution_count": 236,
     "metadata": {},
     "output_type": "execute_result"
    }
   ],
   "source": [
    "data.describe().T"
   ]
  },
  {
   "cell_type": "code",
   "execution_count": 237,
   "id": "01cc41d1",
   "metadata": {},
   "outputs": [],
   "source": [
    "from sklearn.preprocessing import MinMaxScaler, StandardScaler\n",
    "from sklearn.model_selection import train_test_split\n",
    "from sklearn.metrics import mean_squared_error, r2_score"
   ]
  },
  {
   "cell_type": "code",
   "execution_count": 238,
   "id": "28c94257",
   "metadata": {},
   "outputs": [],
   "source": [
    "# выделяем целевую переменную\n",
    "label = data['MEDV']\n",
    "data.drop(['MEDV'], axis=1, inplace=True)"
   ]
  },
  {
   "cell_type": "code",
   "execution_count": 239,
   "id": "9e0270f9",
   "metadata": {},
   "outputs": [],
   "source": [
    "# разбиваем данные на train и test\n",
    "X_train, X_test, y_train, y_test = train_test_split(data, label, test_size=0.3, random_state=42)"
   ]
  },
  {
   "cell_type": "code",
   "execution_count": 240,
   "id": "eb20d6d9",
   "metadata": {},
   "outputs": [],
   "source": [
    "# нормируем данные\n",
    "scaler = StandardScaler()\n",
    "X_train_sc = scaler.fit_transform(X_train)\n",
    "X_test_sc = scaler.transform(X_test)"
   ]
  },
  {
   "cell_type": "code",
   "execution_count": 241,
   "id": "80981287",
   "metadata": {},
   "outputs": [],
   "source": [
    "# преобразуем в tensor формат\n",
    "torch_X_train = torch.Tensor(X_train_sc)\n",
    "torch_X_test = torch.Tensor(X_test_sc)\n",
    "torch_y_train = torch.Tensor(y_train.values)\n",
    "torch_y_test = torch.Tensor(y_test.values)"
   ]
  },
  {
   "cell_type": "code",
   "execution_count": 242,
   "id": "d1d55f1c",
   "metadata": {},
   "outputs": [],
   "source": [
    "# Задаем batch_size и готовим данные для итерации\n",
    "batch_size = 16\n",
    "train_dataset = TensorDataset(torch_X_train, torch_y_train )\n",
    "test_dataset = TensorDataset(torch_X_test, torch_y_test)\n",
    "\n",
    "train_iter = DataLoader(train_dataset, batch_size, shuffle=True)\n",
    "test_iter = DataLoader(test_dataset, batch_size, shuffle=False)"
   ]
  },
  {
   "cell_type": "code",
   "execution_count": 243,
   "id": "3b896215",
   "metadata": {},
   "outputs": [],
   "source": [
    "# составляем модель\n",
    "model = torch.nn.Sequential(torch.nn.Linear(13, 1))\n",
    "loss = torch.nn.MSELoss(reduction='mean')\n",
    "trainer = torch.optim.SGD(model.parameters(), lr=0.001)"
   ]
  },
  {
   "cell_type": "code",
   "execution_count": 244,
   "id": "82ff6117",
   "metadata": {},
   "outputs": [
    {
     "name": "stdout",
     "output_type": "stream",
     "text": [
      "loss: 467.903503\n",
      "w tensor([[ 0.0552,  0.0650, -0.1907, -0.1251, -0.4245,  0.0674,  0.0760, -0.0473,\n",
      "         -0.2999,  0.0068, -0.2417,  0.0059, -0.4185]])\n",
      "b tensor([1.3505])\n",
      "loss: 140.226807\n",
      "w tensor([[-0.3858,  0.4954, -0.6922,  0.5048, -0.8662,  1.8021, -0.1389, -0.3835,\n",
      "         -0.2852, -0.4260, -0.8403,  0.2457, -1.8850]])\n",
      "b tensor([11.6801])\n",
      "loss: 54.596600\n",
      "w tensor([[-0.4646,  0.4891, -0.6638,  0.7586, -0.8621,  2.5558, -0.0612, -0.9240,\n",
      "          0.0139, -0.4070, -1.0456,  0.4118, -2.5385]])\n",
      "b tensor([17.0558])\n",
      "loss: 31.080309\n",
      "w tensor([[-0.5174,  0.4961, -0.5992,  0.9426, -0.8904,  3.0059,  0.0256, -1.3589,\n",
      "          0.2568, -0.3757, -1.2728,  0.5554, -2.9982]])\n",
      "b tensor([19.8954])\n",
      "loss: 24.441690\n",
      "w tensor([[-0.5557,  0.5470, -0.5678,  0.9031, -0.9641,  3.1603, -0.0091, -1.6381,\n",
      "          0.4146, -0.3975, -1.4508,  0.6292, -3.1834]])\n",
      "b tensor([21.3617])\n"
     ]
    }
   ],
   "source": [
    "# тренируем модель\n",
    "model = torch.nn.Sequential(torch.nn.Linear(13, 1))\n",
    "loss = torch.nn.MSELoss(reduction='mean')\n",
    "trainer = torch.optim.SGD(model.parameters(), lr=0.001)\n",
    "\n",
    "num_epochs = 50\n",
    "for epoch in range(0, num_epochs):\n",
    "    l = 0    \n",
    "    \n",
    "    model.train()\n",
    "    for X, y in train_iter:\n",
    "        trainer.zero_grad()\n",
    "        l = loss(model.forward(X).reshape(-1), y)\n",
    "        l.backward()\n",
    "        trainer.step()\n",
    "    l = loss(model.forward(torch_X_train).reshape(-1), torch_y_train)\n",
    "        \n",
    "    model.eval()\n",
    "    for X, y in test_iter:\n",
    "        trainer.zero_grad()\n",
    "        l = loss(model.forward(X).reshape(-1), y)\n",
    "        l.backward()\n",
    "        trainer.step()\n",
    "    l = loss(model.forward(torch_X_test).reshape(-1), torch_y_test)\n",
    "    \n",
    "    if epoch%10 == 0:\n",
    "        print('loss: %f' % (l.item()))\n",
    "        print('w', model[0].weight.data)\n",
    "        print('b', model[0].bias.data)"
   ]
  },
  {
   "cell_type": "code",
   "execution_count": 245,
   "id": "e17a1a56",
   "metadata": {},
   "outputs": [
    {
     "name": "stdout",
     "output_type": "stream",
     "text": [
      "22.506279\n"
     ]
    }
   ],
   "source": [
    "# оценка на тестовых данных\n",
    "with torch.no_grad():\n",
    "    predict = model(torch_X_test)\n",
    "    print(mean_squared_error(predict, torch.Tensor(y_test)))"
   ]
  },
  {
   "cell_type": "markdown",
   "id": "68838da8",
   "metadata": {},
   "source": [
    "### Cравнение нашей линейной регресии с sklearn.linear_model.LinearRegression"
   ]
  },
  {
   "cell_type": "code",
   "execution_count": 246,
   "id": "6716bd4f",
   "metadata": {},
   "outputs": [
    {
     "data": {
      "text/plain": [
       "LinearRegression(copy_X=True, fit_intercept=True, n_jobs=None, normalize=False)"
      ]
     },
     "execution_count": 246,
     "metadata": {},
     "output_type": "execute_result"
    }
   ],
   "source": [
    "from sklearn.linear_model import LinearRegression\n",
    "model_LR = LinearRegression()\n",
    "model_LR.fit(X_train_sc, y_train)"
   ]
  },
  {
   "cell_type": "code",
   "execution_count": 247,
   "id": "015407f5",
   "metadata": {},
   "outputs": [
    {
     "data": {
      "text/plain": [
       "0.7112260057484932"
      ]
     },
     "execution_count": 247,
     "metadata": {},
     "output_type": "execute_result"
    }
   ],
   "source": [
    "# по умолчанию используется r2_score\n",
    "model_LR.score(X_test_sc, y_test)"
   ]
  },
  {
   "cell_type": "code",
   "execution_count": 248,
   "id": "73ae0bbc",
   "metadata": {},
   "outputs": [
    {
     "data": {
      "text/plain": [
       "21.517444231177212"
      ]
     },
     "execution_count": 248,
     "metadata": {},
     "output_type": "execute_result"
    }
   ],
   "source": [
    "# оценка mean_squared_error\n",
    "predict_LR = model_LR.predict(X_test_sc)\n",
    "mean_squared_error(predict_LR, y_test)"
   ]
  },
  {
   "cell_type": "code",
   "execution_count": 249,
   "id": "7ec9cdba",
   "metadata": {},
   "outputs": [
    {
     "name": "stdout",
     "output_type": "stream",
     "text": [
      "Коэффициенты -  [-1.10834602  0.80843998  0.34313466  0.81386426 -1.79804295  2.913858\n",
      " -0.29893918 -2.94251148  2.09419303 -1.44706731 -2.05232232  1.02375187\n",
      " -3.88579002]\n",
      "Cмещение -  23.01581920903955\n"
     ]
    }
   ],
   "source": [
    "# Коэффициенты и смещение\n",
    "print('Коэффициенты - ', model_LR.coef_)\n",
    "print('Cмещение - ', model_LR.intercept_)"
   ]
  },
  {
   "cell_type": "markdown",
   "id": "9536e547",
   "metadata": {},
   "source": [
    "<!-- Выводы:\n",
    "результаты модели на torch сопоставимы с результатами модели LinearRegression из sklearn:\n",
    "    22.922598 в нашей модели, 21.517444 в моделе из sklearn, модель из sklearn точнее.\n",
    "коэфиициенты и смещение, сопоставимы:\n",
    "    коэффициенты нашей модели: \n",
    "        [-0.5607,  0.4867, -0.5716,  0.8749, -0.6550,  3.2867, -0.2226, -1.5385,\n",
    "          0.3287, -0.3973, -1.3741,  0.6638, -3.0371]\n",
    "    коэффициенты модели из sklearn:\n",
    "        [-1.1083,  0.8084,  0.3431,  0.8138, -1.7980,  2.9138, -0.2989, -2.9425,\n",
    "        2.0941, -1.4470, -2.0523,  1.0237, -3.8857] -->\n",
    "    "
   ]
  },
  {
   "cell_type": "markdown",
   "id": "837429fe",
   "metadata": {},
   "source": [
    "#### Выводы:"
   ]
  },
  {
   "cell_type": "raw",
   "id": "3b4d8731",
   "metadata": {},
   "source": [
    "Pезультаты нашей модели сопоставим с моделью линейной регресии из Sklearn, модель из sklearn несколько точнее."
   ]
  },
  {
   "cell_type": "code",
   "execution_count": 250,
   "id": "348c13e8",
   "metadata": {},
   "outputs": [
    {
     "name": "stdout",
     "output_type": "stream",
     "text": [
      "Mean squared error нашей модели:  22.506279\n",
      "Mean squared error модели из sklearn:  21.517444231177212\n"
     ]
    }
   ],
   "source": [
    "print('Mean squared error нашей модели: ', mean_squared_error(predict, torch.Tensor(y_test)))\n",
    "print('Mean squared error модели из sklearn: ', mean_squared_error(predict_LR, y_test))"
   ]
  },
  {
   "cell_type": "markdown",
   "id": "038df347",
   "metadata": {},
   "source": [
    "Коэффицинеты моделей похожи, но не одинаковые:"
   ]
  },
  {
   "cell_type": "code",
   "execution_count": 251,
   "id": "f1751381",
   "metadata": {},
   "outputs": [
    {
     "name": "stdout",
     "output_type": "stream",
     "text": [
      "Коэффициенты из нашей модели:  [-0.5761382   0.58172244 -0.53916776  0.855652   -1.0373898   3.2296941\n",
      " -0.00815739 -1.8486702   0.5410825  -0.41733304 -1.572128    0.6850489\n",
      " -3.3067524 ]\n",
      "Коэффициенты модели из sklearn:  [-1.10834602  0.80843998  0.34313466  0.81386426 -1.79804295  2.913858\n",
      " -0.29893918 -2.94251148  2.09419303 -1.44706731 -2.05232232  1.02375187\n",
      " -3.88579002]\n",
      "\n",
      "\n",
      "Смещение из нашей модели:  22.085590362548828\n",
      "Смещение модели из sklearn:  23.01581920903955\n"
     ]
    }
   ],
   "source": [
    "print('Коэффициенты из нашей модели: ', model[0].weight.data.numpy()[0])\n",
    "print('Коэффициенты модели из sklearn: ', model_LR.coef_)\n",
    "print('\\n')\n",
    "\n",
    "print('Смещение из нашей модели: ', model[0].bias.data.item())\n",
    "print('Смещение модели из sklearn: ',  model_LR.intercept_) "
   ]
  },
  {
   "cell_type": "markdown",
   "id": "a5960f63",
   "metadata": {},
   "source": [
    "## Реализовать наивный баесовский классификатор для MNIST (взяв всего 2 цифры “1” и “2”) сравнить с sclearn’овски"
   ]
  },
  {
   "cell_type": "code",
   "execution_count": 252,
   "id": "68743c0f",
   "metadata": {},
   "outputs": [],
   "source": [
    "def transform(data):\n",
    "    data = torch.tensor(data.getdata(), dtype=torch.float32)\n",
    "    return torch.floor(data / 128.).squeeze(axis=-1)"
   ]
  },
  {
   "cell_type": "code",
   "execution_count": 253,
   "id": "103bd030",
   "metadata": {},
   "outputs": [],
   "source": [
    "mnist_train = torchvision.datasets.MNIST('.', train=True, transform=transform, download=True)\n",
    "mnist_test  = torchvision.datasets.MNIST('.', train=False, transform=transform, download=True)"
   ]
  },
  {
   "cell_type": "code",
   "execution_count": 254,
   "id": "4e6eecf3",
   "metadata": {},
   "outputs": [],
   "source": [
    "# выберем строки с меткой 1 и 0\n",
    "train_x = [mnist_train[i][0]  for i in range(len(mnist_train)) if (mnist_train[i][1] == 0) or (mnist_train[i][1] == 1) ]\n",
    "test_x = [mnist_test[i][0]  for i in range(len(mnist_test)) if (mnist_test[i][1] == 0) or (mnist_test[i][1] == 1) ]\n",
    "train_y = [mnist_train[i][1]  for i in range(len(mnist_train)) if (mnist_train[i][1] == 0) or (mnist_train[i][1] == 1) ]\n",
    "test_y = [mnist_test[i][1]  for i in range(len(mnist_test)) if (mnist_test[i][1] == 0) or (mnist_test[i][1] == 1) ]"
   ]
  },
  {
   "cell_type": "code",
   "execution_count": 255,
   "id": "38933864",
   "metadata": {},
   "outputs": [
    {
     "name": "stdout",
     "output_type": "stream",
     "text": [
      "12665\n",
      "2115\n"
     ]
    }
   ],
   "source": [
    "print(len(train_x))\n",
    "print(len(test_x))"
   ]
  },
  {
   "cell_type": "code",
   "execution_count": 256,
   "id": "a32accef",
   "metadata": {},
   "outputs": [],
   "source": [
    "training_tensor = torch.cat([i for i in train_x], dim=0).reshape(len(train_x), 784)\n",
    "testing_tensor = torch.cat([i for i in test_x], dim=0).reshape(len(test_x), 784)"
   ]
  },
  {
   "cell_type": "code",
   "execution_count": 257,
   "id": "5444353c",
   "metadata": {},
   "outputs": [],
   "source": [
    "y_train = torch.tensor(train_y)\n",
    "y_test = torch.tensor(test_y)"
   ]
  },
  {
   "cell_type": "markdown",
   "id": "d726ac9d",
   "metadata": {},
   "source": [
    "$$ P(pix) =  \\frac{Количество\\: вхождений\\: ненулевых\\: пикселей\\: pix\\: в\\: датасет}  {Количество\\: пикселей\\: в\\: датасете} $$"
   ]
  },
  {
   "cell_type": "code",
   "execution_count": 258,
   "id": "2df411a3",
   "metadata": {},
   "outputs": [
    {
     "data": {
      "text/plain": [
       "torch.Size([784])"
      ]
     },
     "execution_count": 258,
     "metadata": {},
     "output_type": "execute_result"
    }
   ],
   "source": [
    "p_pix = training_tensor.sum(axis=0) / training_tensor.sum()\n",
    "p_pix.shape"
   ]
  },
  {
   "cell_type": "markdown",
   "id": "fbb34144",
   "metadata": {},
   "source": [
    "$$ P(pix|one) =  \\frac {Количество\\: вхождений\\: ненулевых\\: пикселей\\: pix\\: в\\: картинках\\: с\\: единицей}  {Количество\\: пикселей \\:в\\: картинках\\: с\\: единицей} $$"
   ]
  },
  {
   "cell_type": "code",
   "execution_count": 259,
   "id": "b1f0f8e2",
   "metadata": {},
   "outputs": [],
   "source": [
    "one_training_tensor = training_tensor[y_train == 1]\n",
    "p_pix_one = one_training_tensor.sum(axis=0)/ one_training_tensor.sum()"
   ]
  },
  {
   "cell_type": "markdown",
   "id": "747a6027",
   "metadata": {},
   "source": [
    "$$ P(pix) =  \\frac {Количество\\: картинок\\: единиц}  {Количество\\: картинок} $$"
   ]
  },
  {
   "cell_type": "code",
   "execution_count": 260,
   "id": "6c39e354",
   "metadata": {},
   "outputs": [
    {
     "name": "stdout",
     "output_type": "stream",
     "text": [
      "0.5323332017370707\n",
      "0.46766679826292934\n"
     ]
    }
   ],
   "source": [
    "p_one =(y_train == 1).sum().item() / len(y_train)\n",
    "p_not_one = (y_train == 0).sum().item() / len(y_train)\n",
    "print(p_one)\n",
    "print(p_not_one) # zero"
   ]
  },
  {
   "cell_type": "markdown",
   "id": "b8fd26e4",
   "metadata": {},
   "source": [
    "#### можно посмотреть картинку"
   ]
  },
  {
   "cell_type": "code",
   "execution_count": 261,
   "id": "8b286d75",
   "metadata": {},
   "outputs": [
    {
     "data": {
      "image/png": "[encoded data removed]",
      "text/plain": [
       "<Figure size 432x288 with 1 Axes>"
      ]
     },
     "metadata": {
      "needs_background": "light"
     },
     "output_type": "display_data"
    }
   ],
   "source": [
    "plt.imshow(testing_tensor[0].numpy().reshape(28, 28), cmap='gray');"
   ]
  },
  {
   "cell_type": "markdown",
   "id": "b2b63b94",
   "metadata": {},
   "source": [
    "$$ P(one|pix) =  \\frac {P(pix|one)P(one)}  {P(pix)} $$\n",
    "\n",
    "$$ P(one|pix) =  \\frac {P(pix_1|one)P(pix_2|one)...P(pix_n|one)P(one)}  {P(pix_1)P(pix_2)...P(pix_n)} $$"
   ]
  },
  {
   "cell_type": "code",
   "execution_count": 262,
   "id": "15dbc113",
   "metadata": {},
   "outputs": [
    {
     "data": {
      "text/plain": [
       "tensor(113.3201)"
      ]
     },
     "execution_count": 262,
     "metadata": {},
     "output_type": "execute_result"
    }
   ],
   "source": [
    "np.log((test_sample * p_pix_one)[test_sample != 0]).sum()  * np.log(p_one) "
   ]
  },
  {
   "cell_type": "code",
   "execution_count": 263,
   "id": "6d77ae4f",
   "metadata": {},
   "outputs": [
    {
     "data": {
      "text/plain": [
       "tensor(0.8756)"
      ]
     },
     "execution_count": 263,
     "metadata": {},
     "output_type": "execute_result"
    }
   ],
   "source": [
    "# логарифм - чтоб брать сумму, а не произведение.\n",
    "test_sample = testing_tensor[0]\n",
    "(np.log((test_sample * p_pix_one)[test_sample != 0]).sum() + np.log(p_one))/ np.log((test_sample * p_pix)[test_sample != 0]).sum()"
   ]
  },
  {
   "cell_type": "code",
   "execution_count": 264,
   "id": "53bf03f9",
   "metadata": {},
   "outputs": [
    {
     "name": "stdout",
     "output_type": "stream",
     "text": [
      "1.1711272\n",
      "0.9510283\n"
     ]
    }
   ],
   "source": [
    "# ручная калибровка\n",
    "\n",
    "def nbc_test(test_sample, p_pix_one, p_one, p_pix):\n",
    "    pred = (np.log((test_sample * p_pix_one)[test_sample != 0]).sum() + np.log(p_one)) / np.log((test_sample * p_pix)[test_sample != 0]).sum()\n",
    "    return pred\n",
    "\n",
    "pred_1 = []\n",
    "for i in training_tensor[y_train == 1]:\n",
    "    pred_1.append(nbc_test(i, p_pix_one, p_one, p_pix))\n",
    "    \n",
    "print(np.array(pred_1).max())\n",
    "\n",
    "pred = []\n",
    "for i in training_tensor[y_train == 0]:\n",
    "    pred.append(nbc_test(i, p_pix_one, p_one, p_pix))\n",
    "    \n",
    "print(np.array(pred).min())"
   ]
  },
  {
   "cell_type": "code",
   "execution_count": 265,
   "id": "97a693d7",
   "metadata": {},
   "outputs": [
    {
     "data": {
      "text/plain": [
       "1.0610777139663696"
      ]
     },
     "execution_count": 265,
     "metadata": {},
     "output_type": "execute_result"
    }
   ],
   "source": [
    "x1 = np.array(pred_1).max()\n",
    "x2 = np.array(pred).min()\n",
    "(x1+x2)/2"
   ]
  },
  {
   "cell_type": "markdown",
   "id": "4b10d092",
   "metadata": {},
   "source": [
    "### проверка на тестовых данных"
   ]
  },
  {
   "cell_type": "code",
   "execution_count": 266,
   "id": "82fcdffe",
   "metadata": {},
   "outputs": [],
   "source": [
    "def nbc(test_sample, p_pix_one, p_one, p_pix):\n",
    "    pred = (np.log((test_sample * p_pix_one)[test_sample != 0]).sum() + np.log(p_one)) / np.log((test_sample * p_pix)[test_sample != 0]).sum()\n",
    "    if pred < 1.1: # значение подобрано вручную, выше    \n",
    "        return 1\n",
    "    else:\n",
    "        return 0"
   ]
  },
  {
   "cell_type": "code",
   "execution_count": 267,
   "id": "a2c12d97",
   "metadata": {},
   "outputs": [],
   "source": [
    "pred = []\n",
    "for i in testing_tensor:\n",
    "    pred.append(nbc(i, p_pix_one, p_one, p_pix))"
   ]
  },
  {
   "cell_type": "code",
   "execution_count": 268,
   "id": "9499fbe7",
   "metadata": {},
   "outputs": [
    {
     "data": {
      "text/plain": [
       "0.9947990543735225"
      ]
     },
     "execution_count": 268,
     "metadata": {},
     "output_type": "execute_result"
    }
   ],
   "source": [
    "# оценка\n",
    "from sklearn.metrics import accuracy_score\n",
    "accuracy_score(pred, y_test)"
   ]
  },
  {
   "cell_type": "markdown",
   "id": "133bb937",
   "metadata": {},
   "source": [
    "### Cравнение с  sklearn.naive_bayes.GaussianNB"
   ]
  },
  {
   "cell_type": "code",
   "execution_count": 269,
   "id": "8440856f",
   "metadata": {},
   "outputs": [],
   "source": [
    "from sklearn.naive_bayes import GaussianNB"
   ]
  },
  {
   "cell_type": "code",
   "execution_count": 270,
   "id": "83b2118c",
   "metadata": {},
   "outputs": [
    {
     "data": {
      "text/plain": [
       "0.992434988179669"
      ]
     },
     "execution_count": 270,
     "metadata": {},
     "output_type": "execute_result"
    }
   ],
   "source": [
    "model = GaussianNB()\n",
    "model.fit(training_tensor, train_y )\n",
    "predict = model.predict(testing_tensor)\n",
    "\n",
    "accuracy_score(predict, test_y)"
   ]
  },
  {
   "cell_type": "markdown",
   "id": "871dfa32",
   "metadata": {},
   "source": [
    "## Выводы"
   ]
  },
  {
   "cell_type": "raw",
   "id": "b4dcdbe8",
   "metadata": {},
   "source": [
    "Реализованнный нами наивный баесовский классификатор оказался незначительно точнее классификатора, реализованного в sklearn."
   ]
  },
  {
   "cell_type": "markdown",
   "id": "1faa082c",
   "metadata": {},
   "source": [
    "####  PS:"
   ]
  },
  {
   "cell_type": "raw",
   "id": "4c0a4e77",
   "metadata": {},
   "source": [
    "если взять не сумму логарифмов -\n",
    "(np.log((test_sample * p_pix_one)[test_sample != 0]).sum() + np.log(p_one))\n",
    " а сумму и произведение - \n",
    "    (np.log((test_sample * p_pix_one)[test_sample != 0]).sum() * np.log(p_one))\n",
    "    с последующим подбором разделяющей границы - можно на 0.014 улучшить результат (0.9962174940898345)\n",
    "    Выигрыш незначительный, но, показывает возможность получать правильные результаты, некоторыми модернизациями.       \n",
    "    "
   ]
  },
  {
   "cell_type": "raw",
   "id": "565d3214",
   "metadata": {},
   "source": []
  },
  {
   "cell_type": "code",
   "execution_count": null,
   "id": "9e8b6735",
   "metadata": {},
   "outputs": [],
   "source": []
  }
 ],
 "metadata": {
  "kernelspec": {
   "display_name": "Python 3",
   "language": "python",
   "name": "python3"
  },
  "language_info": {
   "codemirror_mode": {
    "name": "ipython",
    "version": 3
   },
   "file_extension": ".py",
   "mimetype": "text/x-python",
   "name": "python",
   "nbconvert_exporter": "python",
   "pygments_lexer": "ipython3",
   "version": "3.7.3"
  }
 },
 "nbformat": 4,
 "nbformat_minor": 5
}
